{
  "nbformat": 4,
  "nbformat_minor": 0,
  "metadata": {
    "colab": {
      "provenance": []
    },
    "kernelspec": {
      "name": "python3",
      "display_name": "Python 3"
    },
    "language_info": {
      "name": "python"
    },
    "gpuClass": "standard",
    "accelerator": "GPU",
    "widgets": {
      "application/vnd.jupyter.widget-state+json": {
        "9fa6451088c8429185b5bae13e004788": {
          "model_module": "@jupyter-widgets/controls",
          "model_name": "HBoxModel",
          "model_module_version": "1.5.0",
          "state": {
            "_dom_classes": [],
            "_model_module": "@jupyter-widgets/controls",
            "_model_module_version": "1.5.0",
            "_model_name": "HBoxModel",
            "_view_count": null,
            "_view_module": "@jupyter-widgets/controls",
            "_view_module_version": "1.5.0",
            "_view_name": "HBoxView",
            "box_style": "",
            "children": [
              "IPY_MODEL_aa703df5877845f2ad87def57e3b1084",
              "IPY_MODEL_0e76b7acbabd479baac66e7f40102290",
              "IPY_MODEL_259906338f9644b1bbd3c791509eae0d"
            ],
            "layout": "IPY_MODEL_a8ff4a1a4fd04e92a6850f1a54276e0f"
          }
        },
        "aa703df5877845f2ad87def57e3b1084": {
          "model_module": "@jupyter-widgets/controls",
          "model_name": "HTMLModel",
          "model_module_version": "1.5.0",
          "state": {
            "_dom_classes": [],
            "_model_module": "@jupyter-widgets/controls",
            "_model_module_version": "1.5.0",
            "_model_name": "HTMLModel",
            "_view_count": null,
            "_view_module": "@jupyter-widgets/controls",
            "_view_module_version": "1.5.0",
            "_view_name": "HTMLView",
            "description": "",
            "description_tooltip": null,
            "layout": "IPY_MODEL_664cf7e2bc294c67ad2cd5e46dfb12de",
            "placeholder": "​",
            "style": "IPY_MODEL_e2f17905d6aa452f870ab9e29c683fc9",
            "value": "Downloading (…)lve/main/config.json: 100%"
          }
        },
        "0e76b7acbabd479baac66e7f40102290": {
          "model_module": "@jupyter-widgets/controls",
          "model_name": "FloatProgressModel",
          "model_module_version": "1.5.0",
          "state": {
            "_dom_classes": [],
            "_model_module": "@jupyter-widgets/controls",
            "_model_module_version": "1.5.0",
            "_model_name": "FloatProgressModel",
            "_view_count": null,
            "_view_module": "@jupyter-widgets/controls",
            "_view_module_version": "1.5.0",
            "_view_name": "ProgressView",
            "bar_style": "success",
            "description": "",
            "description_tooltip": null,
            "layout": "IPY_MODEL_759baf1dfeb84ab0b99d47e58b2ceb23",
            "max": 953,
            "min": 0,
            "orientation": "horizontal",
            "style": "IPY_MODEL_6b3ae9aecc684ec68d1610c4d6266dea",
            "value": 953
          }
        },
        "259906338f9644b1bbd3c791509eae0d": {
          "model_module": "@jupyter-widgets/controls",
          "model_name": "HTMLModel",
          "model_module_version": "1.5.0",
          "state": {
            "_dom_classes": [],
            "_model_module": "@jupyter-widgets/controls",
            "_model_module_version": "1.5.0",
            "_model_name": "HTMLModel",
            "_view_count": null,
            "_view_module": "@jupyter-widgets/controls",
            "_view_module_version": "1.5.0",
            "_view_name": "HTMLView",
            "description": "",
            "description_tooltip": null,
            "layout": "IPY_MODEL_0760c8ec608443048283020110a08401",
            "placeholder": "​",
            "style": "IPY_MODEL_237bb768578447f28a6a7e78467b4750",
            "value": " 953/953 [00:00&lt;00:00, 16.9kB/s]"
          }
        },
        "a8ff4a1a4fd04e92a6850f1a54276e0f": {
          "model_module": "@jupyter-widgets/base",
          "model_name": "LayoutModel",
          "model_module_version": "1.2.0",
          "state": {
            "_model_module": "@jupyter-widgets/base",
            "_model_module_version": "1.2.0",
            "_model_name": "LayoutModel",
            "_view_count": null,
            "_view_module": "@jupyter-widgets/base",
            "_view_module_version": "1.2.0",
            "_view_name": "LayoutView",
            "align_content": null,
            "align_items": null,
            "align_self": null,
            "border": null,
            "bottom": null,
            "display": null,
            "flex": null,
            "flex_flow": null,
            "grid_area": null,
            "grid_auto_columns": null,
            "grid_auto_flow": null,
            "grid_auto_rows": null,
            "grid_column": null,
            "grid_gap": null,
            "grid_row": null,
            "grid_template_areas": null,
            "grid_template_columns": null,
            "grid_template_rows": null,
            "height": null,
            "justify_content": null,
            "justify_items": null,
            "left": null,
            "margin": null,
            "max_height": null,
            "max_width": null,
            "min_height": null,
            "min_width": null,
            "object_fit": null,
            "object_position": null,
            "order": null,
            "overflow": null,
            "overflow_x": null,
            "overflow_y": null,
            "padding": null,
            "right": null,
            "top": null,
            "visibility": null,
            "width": null
          }
        },
        "664cf7e2bc294c67ad2cd5e46dfb12de": {
          "model_module": "@jupyter-widgets/base",
          "model_name": "LayoutModel",
          "model_module_version": "1.2.0",
          "state": {
            "_model_module": "@jupyter-widgets/base",
            "_model_module_version": "1.2.0",
            "_model_name": "LayoutModel",
            "_view_count": null,
            "_view_module": "@jupyter-widgets/base",
            "_view_module_version": "1.2.0",
            "_view_name": "LayoutView",
            "align_content": null,
            "align_items": null,
            "align_self": null,
            "border": null,
            "bottom": null,
            "display": null,
            "flex": null,
            "flex_flow": null,
            "grid_area": null,
            "grid_auto_columns": null,
            "grid_auto_flow": null,
            "grid_auto_rows": null,
            "grid_column": null,
            "grid_gap": null,
            "grid_row": null,
            "grid_template_areas": null,
            "grid_template_columns": null,
            "grid_template_rows": null,
            "height": null,
            "justify_content": null,
            "justify_items": null,
            "left": null,
            "margin": null,
            "max_height": null,
            "max_width": null,
            "min_height": null,
            "min_width": null,
            "object_fit": null,
            "object_position": null,
            "order": null,
            "overflow": null,
            "overflow_x": null,
            "overflow_y": null,
            "padding": null,
            "right": null,
            "top": null,
            "visibility": null,
            "width": null
          }
        },
        "e2f17905d6aa452f870ab9e29c683fc9": {
          "model_module": "@jupyter-widgets/controls",
          "model_name": "DescriptionStyleModel",
          "model_module_version": "1.5.0",
          "state": {
            "_model_module": "@jupyter-widgets/controls",
            "_model_module_version": "1.5.0",
            "_model_name": "DescriptionStyleModel",
            "_view_count": null,
            "_view_module": "@jupyter-widgets/base",
            "_view_module_version": "1.2.0",
            "_view_name": "StyleView",
            "description_width": ""
          }
        },
        "759baf1dfeb84ab0b99d47e58b2ceb23": {
          "model_module": "@jupyter-widgets/base",
          "model_name": "LayoutModel",
          "model_module_version": "1.2.0",
          "state": {
            "_model_module": "@jupyter-widgets/base",
            "_model_module_version": "1.2.0",
            "_model_name": "LayoutModel",
            "_view_count": null,
            "_view_module": "@jupyter-widgets/base",
            "_view_module_version": "1.2.0",
            "_view_name": "LayoutView",
            "align_content": null,
            "align_items": null,
            "align_self": null,
            "border": null,
            "bottom": null,
            "display": null,
            "flex": null,
            "flex_flow": null,
            "grid_area": null,
            "grid_auto_columns": null,
            "grid_auto_flow": null,
            "grid_auto_rows": null,
            "grid_column": null,
            "grid_gap": null,
            "grid_row": null,
            "grid_template_areas": null,
            "grid_template_columns": null,
            "grid_template_rows": null,
            "height": null,
            "justify_content": null,
            "justify_items": null,
            "left": null,
            "margin": null,
            "max_height": null,
            "max_width": null,
            "min_height": null,
            "min_width": null,
            "object_fit": null,
            "object_position": null,
            "order": null,
            "overflow": null,
            "overflow_x": null,
            "overflow_y": null,
            "padding": null,
            "right": null,
            "top": null,
            "visibility": null,
            "width": null
          }
        },
        "6b3ae9aecc684ec68d1610c4d6266dea": {
          "model_module": "@jupyter-widgets/controls",
          "model_name": "ProgressStyleModel",
          "model_module_version": "1.5.0",
          "state": {
            "_model_module": "@jupyter-widgets/controls",
            "_model_module_version": "1.5.0",
            "_model_name": "ProgressStyleModel",
            "_view_count": null,
            "_view_module": "@jupyter-widgets/base",
            "_view_module_version": "1.2.0",
            "_view_name": "StyleView",
            "bar_color": null,
            "description_width": ""
          }
        },
        "0760c8ec608443048283020110a08401": {
          "model_module": "@jupyter-widgets/base",
          "model_name": "LayoutModel",
          "model_module_version": "1.2.0",
          "state": {
            "_model_module": "@jupyter-widgets/base",
            "_model_module_version": "1.2.0",
            "_model_name": "LayoutModel",
            "_view_count": null,
            "_view_module": "@jupyter-widgets/base",
            "_view_module_version": "1.2.0",
            "_view_name": "LayoutView",
            "align_content": null,
            "align_items": null,
            "align_self": null,
            "border": null,
            "bottom": null,
            "display": null,
            "flex": null,
            "flex_flow": null,
            "grid_area": null,
            "grid_auto_columns": null,
            "grid_auto_flow": null,
            "grid_auto_rows": null,
            "grid_column": null,
            "grid_gap": null,
            "grid_row": null,
            "grid_template_areas": null,
            "grid_template_columns": null,
            "grid_template_rows": null,
            "height": null,
            "justify_content": null,
            "justify_items": null,
            "left": null,
            "margin": null,
            "max_height": null,
            "max_width": null,
            "min_height": null,
            "min_width": null,
            "object_fit": null,
            "object_position": null,
            "order": null,
            "overflow": null,
            "overflow_x": null,
            "overflow_y": null,
            "padding": null,
            "right": null,
            "top": null,
            "visibility": null,
            "width": null
          }
        },
        "237bb768578447f28a6a7e78467b4750": {
          "model_module": "@jupyter-widgets/controls",
          "model_name": "DescriptionStyleModel",
          "model_module_version": "1.5.0",
          "state": {
            "_model_module": "@jupyter-widgets/controls",
            "_model_module_version": "1.5.0",
            "_model_name": "DescriptionStyleModel",
            "_view_count": null,
            "_view_module": "@jupyter-widgets/base",
            "_view_module_version": "1.2.0",
            "_view_name": "StyleView",
            "description_width": ""
          }
        },
        "924091967f064c1f93b82dfcb6d029aa": {
          "model_module": "@jupyter-widgets/controls",
          "model_name": "HBoxModel",
          "model_module_version": "1.5.0",
          "state": {
            "_dom_classes": [],
            "_model_module": "@jupyter-widgets/controls",
            "_model_module_version": "1.5.0",
            "_model_name": "HBoxModel",
            "_view_count": null,
            "_view_module": "@jupyter-widgets/controls",
            "_view_module_version": "1.5.0",
            "_view_name": "HBoxView",
            "box_style": "",
            "children": [
              "IPY_MODEL_b4c8df57afc847709eb87ae29baa7cf1",
              "IPY_MODEL_6bf1d2d2057341b0944adc4ada83828a",
              "IPY_MODEL_c0977ca5be18437f81b85304f21c80cd"
            ],
            "layout": "IPY_MODEL_55a354dad8a84b688e360f64a50e0116"
          }
        },
        "b4c8df57afc847709eb87ae29baa7cf1": {
          "model_module": "@jupyter-widgets/controls",
          "model_name": "HTMLModel",
          "model_module_version": "1.5.0",
          "state": {
            "_dom_classes": [],
            "_model_module": "@jupyter-widgets/controls",
            "_model_module_version": "1.5.0",
            "_model_name": "HTMLModel",
            "_view_count": null,
            "_view_module": "@jupyter-widgets/controls",
            "_view_module_version": "1.5.0",
            "_view_name": "HTMLView",
            "description": "",
            "description_tooltip": null,
            "layout": "IPY_MODEL_854e3a98e8064363932f15c6007a73ff",
            "placeholder": "​",
            "style": "IPY_MODEL_8371b6e0ce1148f794eed7b68553f963",
            "value": "Downloading pytorch_model.bin: 100%"
          }
        },
        "6bf1d2d2057341b0944adc4ada83828a": {
          "model_module": "@jupyter-widgets/controls",
          "model_name": "FloatProgressModel",
          "model_module_version": "1.5.0",
          "state": {
            "_dom_classes": [],
            "_model_module": "@jupyter-widgets/controls",
            "_model_module_version": "1.5.0",
            "_model_name": "FloatProgressModel",
            "_view_count": null,
            "_view_module": "@jupyter-widgets/controls",
            "_view_module_version": "1.5.0",
            "_view_name": "ProgressView",
            "bar_style": "success",
            "description": "",
            "description_tooltip": null,
            "layout": "IPY_MODEL_08758a699c84472aaf1b0dba67c148a4",
            "max": 669491321,
            "min": 0,
            "orientation": "horizontal",
            "style": "IPY_MODEL_c924c1ee622c4a00806c79b4e97e12b6",
            "value": 669491321
          }
        },
        "c0977ca5be18437f81b85304f21c80cd": {
          "model_module": "@jupyter-widgets/controls",
          "model_name": "HTMLModel",
          "model_module_version": "1.5.0",
          "state": {
            "_dom_classes": [],
            "_model_module": "@jupyter-widgets/controls",
            "_model_module_version": "1.5.0",
            "_model_name": "HTMLModel",
            "_view_count": null,
            "_view_module": "@jupyter-widgets/controls",
            "_view_module_version": "1.5.0",
            "_view_name": "HTMLView",
            "description": "",
            "description_tooltip": null,
            "layout": "IPY_MODEL_6ab0a48dcedd45efbea3b83bdc59951d",
            "placeholder": "​",
            "style": "IPY_MODEL_5bb83a2064664fbc9377ad7399346706",
            "value": " 669M/669M [00:07&lt;00:00, 94.3MB/s]"
          }
        },
        "55a354dad8a84b688e360f64a50e0116": {
          "model_module": "@jupyter-widgets/base",
          "model_name": "LayoutModel",
          "model_module_version": "1.2.0",
          "state": {
            "_model_module": "@jupyter-widgets/base",
            "_model_module_version": "1.2.0",
            "_model_name": "LayoutModel",
            "_view_count": null,
            "_view_module": "@jupyter-widgets/base",
            "_view_module_version": "1.2.0",
            "_view_name": "LayoutView",
            "align_content": null,
            "align_items": null,
            "align_self": null,
            "border": null,
            "bottom": null,
            "display": null,
            "flex": null,
            "flex_flow": null,
            "grid_area": null,
            "grid_auto_columns": null,
            "grid_auto_flow": null,
            "grid_auto_rows": null,
            "grid_column": null,
            "grid_gap": null,
            "grid_row": null,
            "grid_template_areas": null,
            "grid_template_columns": null,
            "grid_template_rows": null,
            "height": null,
            "justify_content": null,
            "justify_items": null,
            "left": null,
            "margin": null,
            "max_height": null,
            "max_width": null,
            "min_height": null,
            "min_width": null,
            "object_fit": null,
            "object_position": null,
            "order": null,
            "overflow": null,
            "overflow_x": null,
            "overflow_y": null,
            "padding": null,
            "right": null,
            "top": null,
            "visibility": null,
            "width": null
          }
        },
        "854e3a98e8064363932f15c6007a73ff": {
          "model_module": "@jupyter-widgets/base",
          "model_name": "LayoutModel",
          "model_module_version": "1.2.0",
          "state": {
            "_model_module": "@jupyter-widgets/base",
            "_model_module_version": "1.2.0",
            "_model_name": "LayoutModel",
            "_view_count": null,
            "_view_module": "@jupyter-widgets/base",
            "_view_module_version": "1.2.0",
            "_view_name": "LayoutView",
            "align_content": null,
            "align_items": null,
            "align_self": null,
            "border": null,
            "bottom": null,
            "display": null,
            "flex": null,
            "flex_flow": null,
            "grid_area": null,
            "grid_auto_columns": null,
            "grid_auto_flow": null,
            "grid_auto_rows": null,
            "grid_column": null,
            "grid_gap": null,
            "grid_row": null,
            "grid_template_areas": null,
            "grid_template_columns": null,
            "grid_template_rows": null,
            "height": null,
            "justify_content": null,
            "justify_items": null,
            "left": null,
            "margin": null,
            "max_height": null,
            "max_width": null,
            "min_height": null,
            "min_width": null,
            "object_fit": null,
            "object_position": null,
            "order": null,
            "overflow": null,
            "overflow_x": null,
            "overflow_y": null,
            "padding": null,
            "right": null,
            "top": null,
            "visibility": null,
            "width": null
          }
        },
        "8371b6e0ce1148f794eed7b68553f963": {
          "model_module": "@jupyter-widgets/controls",
          "model_name": "DescriptionStyleModel",
          "model_module_version": "1.5.0",
          "state": {
            "_model_module": "@jupyter-widgets/controls",
            "_model_module_version": "1.5.0",
            "_model_name": "DescriptionStyleModel",
            "_view_count": null,
            "_view_module": "@jupyter-widgets/base",
            "_view_module_version": "1.2.0",
            "_view_name": "StyleView",
            "description_width": ""
          }
        },
        "08758a699c84472aaf1b0dba67c148a4": {
          "model_module": "@jupyter-widgets/base",
          "model_name": "LayoutModel",
          "model_module_version": "1.2.0",
          "state": {
            "_model_module": "@jupyter-widgets/base",
            "_model_module_version": "1.2.0",
            "_model_name": "LayoutModel",
            "_view_count": null,
            "_view_module": "@jupyter-widgets/base",
            "_view_module_version": "1.2.0",
            "_view_name": "LayoutView",
            "align_content": null,
            "align_items": null,
            "align_self": null,
            "border": null,
            "bottom": null,
            "display": null,
            "flex": null,
            "flex_flow": null,
            "grid_area": null,
            "grid_auto_columns": null,
            "grid_auto_flow": null,
            "grid_auto_rows": null,
            "grid_column": null,
            "grid_gap": null,
            "grid_row": null,
            "grid_template_areas": null,
            "grid_template_columns": null,
            "grid_template_rows": null,
            "height": null,
            "justify_content": null,
            "justify_items": null,
            "left": null,
            "margin": null,
            "max_height": null,
            "max_width": null,
            "min_height": null,
            "min_width": null,
            "object_fit": null,
            "object_position": null,
            "order": null,
            "overflow": null,
            "overflow_x": null,
            "overflow_y": null,
            "padding": null,
            "right": null,
            "top": null,
            "visibility": null,
            "width": null
          }
        },
        "c924c1ee622c4a00806c79b4e97e12b6": {
          "model_module": "@jupyter-widgets/controls",
          "model_name": "ProgressStyleModel",
          "model_module_version": "1.5.0",
          "state": {
            "_model_module": "@jupyter-widgets/controls",
            "_model_module_version": "1.5.0",
            "_model_name": "ProgressStyleModel",
            "_view_count": null,
            "_view_module": "@jupyter-widgets/base",
            "_view_module_version": "1.2.0",
            "_view_name": "StyleView",
            "bar_color": null,
            "description_width": ""
          }
        },
        "6ab0a48dcedd45efbea3b83bdc59951d": {
          "model_module": "@jupyter-widgets/base",
          "model_name": "LayoutModel",
          "model_module_version": "1.2.0",
          "state": {
            "_model_module": "@jupyter-widgets/base",
            "_model_module_version": "1.2.0",
            "_model_name": "LayoutModel",
            "_view_count": null,
            "_view_module": "@jupyter-widgets/base",
            "_view_module_version": "1.2.0",
            "_view_name": "LayoutView",
            "align_content": null,
            "align_items": null,
            "align_self": null,
            "border": null,
            "bottom": null,
            "display": null,
            "flex": null,
            "flex_flow": null,
            "grid_area": null,
            "grid_auto_columns": null,
            "grid_auto_flow": null,
            "grid_auto_rows": null,
            "grid_column": null,
            "grid_gap": null,
            "grid_row": null,
            "grid_template_areas": null,
            "grid_template_columns": null,
            "grid_template_rows": null,
            "height": null,
            "justify_content": null,
            "justify_items": null,
            "left": null,
            "margin": null,
            "max_height": null,
            "max_width": null,
            "min_height": null,
            "min_width": null,
            "object_fit": null,
            "object_position": null,
            "order": null,
            "overflow": null,
            "overflow_x": null,
            "overflow_y": null,
            "padding": null,
            "right": null,
            "top": null,
            "visibility": null,
            "width": null
          }
        },
        "5bb83a2064664fbc9377ad7399346706": {
          "model_module": "@jupyter-widgets/controls",
          "model_name": "DescriptionStyleModel",
          "model_module_version": "1.5.0",
          "state": {
            "_model_module": "@jupyter-widgets/controls",
            "_model_module_version": "1.5.0",
            "_model_name": "DescriptionStyleModel",
            "_view_count": null,
            "_view_module": "@jupyter-widgets/base",
            "_view_module_version": "1.2.0",
            "_view_name": "StyleView",
            "description_width": ""
          }
        },
        "f45bb24ddb1f4e16ac9a24a818320947": {
          "model_module": "@jupyter-widgets/controls",
          "model_name": "HBoxModel",
          "model_module_version": "1.5.0",
          "state": {
            "_dom_classes": [],
            "_model_module": "@jupyter-widgets/controls",
            "_model_module_version": "1.5.0",
            "_model_name": "HBoxModel",
            "_view_count": null,
            "_view_module": "@jupyter-widgets/controls",
            "_view_module_version": "1.5.0",
            "_view_name": "HBoxView",
            "box_style": "",
            "children": [
              "IPY_MODEL_90936ae0e4e64be4adf307bb766f54f4",
              "IPY_MODEL_f335ea565c424e989e74019949a71e91",
              "IPY_MODEL_d63a838170664d5ebbb5be37144047e8"
            ],
            "layout": "IPY_MODEL_e81dec0e1a48456e9de362638a0586e9"
          }
        },
        "90936ae0e4e64be4adf307bb766f54f4": {
          "model_module": "@jupyter-widgets/controls",
          "model_name": "HTMLModel",
          "model_module_version": "1.5.0",
          "state": {
            "_dom_classes": [],
            "_model_module": "@jupyter-widgets/controls",
            "_model_module_version": "1.5.0",
            "_model_name": "HTMLModel",
            "_view_count": null,
            "_view_module": "@jupyter-widgets/controls",
            "_view_module_version": "1.5.0",
            "_view_name": "HTMLView",
            "description": "",
            "description_tooltip": null,
            "layout": "IPY_MODEL_2486dca9ed3d4980a7ec3afd89a597cc",
            "placeholder": "​",
            "style": "IPY_MODEL_84ee2bc53c79446d985e98cbd2ab6331",
            "value": "Downloading (…)okenizer_config.json: 100%"
          }
        },
        "f335ea565c424e989e74019949a71e91": {
          "model_module": "@jupyter-widgets/controls",
          "model_name": "FloatProgressModel",
          "model_module_version": "1.5.0",
          "state": {
            "_dom_classes": [],
            "_model_module": "@jupyter-widgets/controls",
            "_model_module_version": "1.5.0",
            "_model_name": "FloatProgressModel",
            "_view_count": null,
            "_view_module": "@jupyter-widgets/controls",
            "_view_module_version": "1.5.0",
            "_view_name": "ProgressView",
            "bar_style": "success",
            "description": "",
            "description_tooltip": null,
            "layout": "IPY_MODEL_a809d0dcb8ca48b99e38de9a6fecae23",
            "max": 39,
            "min": 0,
            "orientation": "horizontal",
            "style": "IPY_MODEL_37691476b5924f4098d70dbdf2d000ed",
            "value": 39
          }
        },
        "d63a838170664d5ebbb5be37144047e8": {
          "model_module": "@jupyter-widgets/controls",
          "model_name": "HTMLModel",
          "model_module_version": "1.5.0",
          "state": {
            "_dom_classes": [],
            "_model_module": "@jupyter-widgets/controls",
            "_model_module_version": "1.5.0",
            "_model_name": "HTMLModel",
            "_view_count": null,
            "_view_module": "@jupyter-widgets/controls",
            "_view_module_version": "1.5.0",
            "_view_name": "HTMLView",
            "description": "",
            "description_tooltip": null,
            "layout": "IPY_MODEL_ecf699317e704e0f906a18e5752c78be",
            "placeholder": "​",
            "style": "IPY_MODEL_82b7c81a5127463f948419269ed5a45d",
            "value": " 39.0/39.0 [00:00&lt;00:00, 793B/s]"
          }
        },
        "e81dec0e1a48456e9de362638a0586e9": {
          "model_module": "@jupyter-widgets/base",
          "model_name": "LayoutModel",
          "model_module_version": "1.2.0",
          "state": {
            "_model_module": "@jupyter-widgets/base",
            "_model_module_version": "1.2.0",
            "_model_name": "LayoutModel",
            "_view_count": null,
            "_view_module": "@jupyter-widgets/base",
            "_view_module_version": "1.2.0",
            "_view_name": "LayoutView",
            "align_content": null,
            "align_items": null,
            "align_self": null,
            "border": null,
            "bottom": null,
            "display": null,
            "flex": null,
            "flex_flow": null,
            "grid_area": null,
            "grid_auto_columns": null,
            "grid_auto_flow": null,
            "grid_auto_rows": null,
            "grid_column": null,
            "grid_gap": null,
            "grid_row": null,
            "grid_template_areas": null,
            "grid_template_columns": null,
            "grid_template_rows": null,
            "height": null,
            "justify_content": null,
            "justify_items": null,
            "left": null,
            "margin": null,
            "max_height": null,
            "max_width": null,
            "min_height": null,
            "min_width": null,
            "object_fit": null,
            "object_position": null,
            "order": null,
            "overflow": null,
            "overflow_x": null,
            "overflow_y": null,
            "padding": null,
            "right": null,
            "top": null,
            "visibility": null,
            "width": null
          }
        },
        "2486dca9ed3d4980a7ec3afd89a597cc": {
          "model_module": "@jupyter-widgets/base",
          "model_name": "LayoutModel",
          "model_module_version": "1.2.0",
          "state": {
            "_model_module": "@jupyter-widgets/base",
            "_model_module_version": "1.2.0",
            "_model_name": "LayoutModel",
            "_view_count": null,
            "_view_module": "@jupyter-widgets/base",
            "_view_module_version": "1.2.0",
            "_view_name": "LayoutView",
            "align_content": null,
            "align_items": null,
            "align_self": null,
            "border": null,
            "bottom": null,
            "display": null,
            "flex": null,
            "flex_flow": null,
            "grid_area": null,
            "grid_auto_columns": null,
            "grid_auto_flow": null,
            "grid_auto_rows": null,
            "grid_column": null,
            "grid_gap": null,
            "grid_row": null,
            "grid_template_areas": null,
            "grid_template_columns": null,
            "grid_template_rows": null,
            "height": null,
            "justify_content": null,
            "justify_items": null,
            "left": null,
            "margin": null,
            "max_height": null,
            "max_width": null,
            "min_height": null,
            "min_width": null,
            "object_fit": null,
            "object_position": null,
            "order": null,
            "overflow": null,
            "overflow_x": null,
            "overflow_y": null,
            "padding": null,
            "right": null,
            "top": null,
            "visibility": null,
            "width": null
          }
        },
        "84ee2bc53c79446d985e98cbd2ab6331": {
          "model_module": "@jupyter-widgets/controls",
          "model_name": "DescriptionStyleModel",
          "model_module_version": "1.5.0",
          "state": {
            "_model_module": "@jupyter-widgets/controls",
            "_model_module_version": "1.5.0",
            "_model_name": "DescriptionStyleModel",
            "_view_count": null,
            "_view_module": "@jupyter-widgets/base",
            "_view_module_version": "1.2.0",
            "_view_name": "StyleView",
            "description_width": ""
          }
        },
        "a809d0dcb8ca48b99e38de9a6fecae23": {
          "model_module": "@jupyter-widgets/base",
          "model_name": "LayoutModel",
          "model_module_version": "1.2.0",
          "state": {
            "_model_module": "@jupyter-widgets/base",
            "_model_module_version": "1.2.0",
            "_model_name": "LayoutModel",
            "_view_count": null,
            "_view_module": "@jupyter-widgets/base",
            "_view_module_version": "1.2.0",
            "_view_name": "LayoutView",
            "align_content": null,
            "align_items": null,
            "align_self": null,
            "border": null,
            "bottom": null,
            "display": null,
            "flex": null,
            "flex_flow": null,
            "grid_area": null,
            "grid_auto_columns": null,
            "grid_auto_flow": null,
            "grid_auto_rows": null,
            "grid_column": null,
            "grid_gap": null,
            "grid_row": null,
            "grid_template_areas": null,
            "grid_template_columns": null,
            "grid_template_rows": null,
            "height": null,
            "justify_content": null,
            "justify_items": null,
            "left": null,
            "margin": null,
            "max_height": null,
            "max_width": null,
            "min_height": null,
            "min_width": null,
            "object_fit": null,
            "object_position": null,
            "order": null,
            "overflow": null,
            "overflow_x": null,
            "overflow_y": null,
            "padding": null,
            "right": null,
            "top": null,
            "visibility": null,
            "width": null
          }
        },
        "37691476b5924f4098d70dbdf2d000ed": {
          "model_module": "@jupyter-widgets/controls",
          "model_name": "ProgressStyleModel",
          "model_module_version": "1.5.0",
          "state": {
            "_model_module": "@jupyter-widgets/controls",
            "_model_module_version": "1.5.0",
            "_model_name": "ProgressStyleModel",
            "_view_count": null,
            "_view_module": "@jupyter-widgets/base",
            "_view_module_version": "1.2.0",
            "_view_name": "StyleView",
            "bar_color": null,
            "description_width": ""
          }
        },
        "ecf699317e704e0f906a18e5752c78be": {
          "model_module": "@jupyter-widgets/base",
          "model_name": "LayoutModel",
          "model_module_version": "1.2.0",
          "state": {
            "_model_module": "@jupyter-widgets/base",
            "_model_module_version": "1.2.0",
            "_model_name": "LayoutModel",
            "_view_count": null,
            "_view_module": "@jupyter-widgets/base",
            "_view_module_version": "1.2.0",
            "_view_name": "LayoutView",
            "align_content": null,
            "align_items": null,
            "align_self": null,
            "border": null,
            "bottom": null,
            "display": null,
            "flex": null,
            "flex_flow": null,
            "grid_area": null,
            "grid_auto_columns": null,
            "grid_auto_flow": null,
            "grid_auto_rows": null,
            "grid_column": null,
            "grid_gap": null,
            "grid_row": null,
            "grid_template_areas": null,
            "grid_template_columns": null,
            "grid_template_rows": null,
            "height": null,
            "justify_content": null,
            "justify_items": null,
            "left": null,
            "margin": null,
            "max_height": null,
            "max_width": null,
            "min_height": null,
            "min_width": null,
            "object_fit": null,
            "object_position": null,
            "order": null,
            "overflow": null,
            "overflow_x": null,
            "overflow_y": null,
            "padding": null,
            "right": null,
            "top": null,
            "visibility": null,
            "width": null
          }
        },
        "82b7c81a5127463f948419269ed5a45d": {
          "model_module": "@jupyter-widgets/controls",
          "model_name": "DescriptionStyleModel",
          "model_module_version": "1.5.0",
          "state": {
            "_model_module": "@jupyter-widgets/controls",
            "_model_module_version": "1.5.0",
            "_model_name": "DescriptionStyleModel",
            "_view_count": null,
            "_view_module": "@jupyter-widgets/base",
            "_view_module_version": "1.2.0",
            "_view_name": "StyleView",
            "description_width": ""
          }
        },
        "5daa6aa3b4cc447fb224374489f54c85": {
          "model_module": "@jupyter-widgets/controls",
          "model_name": "HBoxModel",
          "model_module_version": "1.5.0",
          "state": {
            "_dom_classes": [],
            "_model_module": "@jupyter-widgets/controls",
            "_model_module_version": "1.5.0",
            "_model_name": "HBoxModel",
            "_view_count": null,
            "_view_module": "@jupyter-widgets/controls",
            "_view_module_version": "1.5.0",
            "_view_name": "HBoxView",
            "box_style": "",
            "children": [
              "IPY_MODEL_0ae5712134d244a1a5eae0d41c17f8df",
              "IPY_MODEL_c38ae1c28878424da786db594d9bb792",
              "IPY_MODEL_888e08c4b17d407bb383cbe763d98760"
            ],
            "layout": "IPY_MODEL_3ec0a0026a12432a87298ec7dd1fa561"
          }
        },
        "0ae5712134d244a1a5eae0d41c17f8df": {
          "model_module": "@jupyter-widgets/controls",
          "model_name": "HTMLModel",
          "model_module_version": "1.5.0",
          "state": {
            "_dom_classes": [],
            "_model_module": "@jupyter-widgets/controls",
            "_model_module_version": "1.5.0",
            "_model_name": "HTMLModel",
            "_view_count": null,
            "_view_module": "@jupyter-widgets/controls",
            "_view_module_version": "1.5.0",
            "_view_name": "HTMLView",
            "description": "",
            "description_tooltip": null,
            "layout": "IPY_MODEL_7767b936198f4aed93202e2f0af04140",
            "placeholder": "​",
            "style": "IPY_MODEL_7851076711464ea0bdd949470f992a83",
            "value": "Downloading (…)solve/main/vocab.txt: 100%"
          }
        },
        "c38ae1c28878424da786db594d9bb792": {
          "model_module": "@jupyter-widgets/controls",
          "model_name": "FloatProgressModel",
          "model_module_version": "1.5.0",
          "state": {
            "_dom_classes": [],
            "_model_module": "@jupyter-widgets/controls",
            "_model_module_version": "1.5.0",
            "_model_name": "FloatProgressModel",
            "_view_count": null,
            "_view_module": "@jupyter-widgets/controls",
            "_view_module_version": "1.5.0",
            "_view_name": "ProgressView",
            "bar_style": "success",
            "description": "",
            "description_tooltip": null,
            "layout": "IPY_MODEL_18c9fb295beb458fb5c30de9a0b1a290",
            "max": 871891,
            "min": 0,
            "orientation": "horizontal",
            "style": "IPY_MODEL_3dfc548180934d0299ce006eb1140178",
            "value": 871891
          }
        },
        "888e08c4b17d407bb383cbe763d98760": {
          "model_module": "@jupyter-widgets/controls",
          "model_name": "HTMLModel",
          "model_module_version": "1.5.0",
          "state": {
            "_dom_classes": [],
            "_model_module": "@jupyter-widgets/controls",
            "_model_module_version": "1.5.0",
            "_model_name": "HTMLModel",
            "_view_count": null,
            "_view_module": "@jupyter-widgets/controls",
            "_view_module_version": "1.5.0",
            "_view_name": "HTMLView",
            "description": "",
            "description_tooltip": null,
            "layout": "IPY_MODEL_7db48c9286b84c99a073dbcc292b8b18",
            "placeholder": "​",
            "style": "IPY_MODEL_03cf6aa9b7904c77bb00f20b1a479086",
            "value": " 872k/872k [00:00&lt;00:00, 8.66MB/s]"
          }
        },
        "3ec0a0026a12432a87298ec7dd1fa561": {
          "model_module": "@jupyter-widgets/base",
          "model_name": "LayoutModel",
          "model_module_version": "1.2.0",
          "state": {
            "_model_module": "@jupyter-widgets/base",
            "_model_module_version": "1.2.0",
            "_model_name": "LayoutModel",
            "_view_count": null,
            "_view_module": "@jupyter-widgets/base",
            "_view_module_version": "1.2.0",
            "_view_name": "LayoutView",
            "align_content": null,
            "align_items": null,
            "align_self": null,
            "border": null,
            "bottom": null,
            "display": null,
            "flex": null,
            "flex_flow": null,
            "grid_area": null,
            "grid_auto_columns": null,
            "grid_auto_flow": null,
            "grid_auto_rows": null,
            "grid_column": null,
            "grid_gap": null,
            "grid_row": null,
            "grid_template_areas": null,
            "grid_template_columns": null,
            "grid_template_rows": null,
            "height": null,
            "justify_content": null,
            "justify_items": null,
            "left": null,
            "margin": null,
            "max_height": null,
            "max_width": null,
            "min_height": null,
            "min_width": null,
            "object_fit": null,
            "object_position": null,
            "order": null,
            "overflow": null,
            "overflow_x": null,
            "overflow_y": null,
            "padding": null,
            "right": null,
            "top": null,
            "visibility": null,
            "width": null
          }
        },
        "7767b936198f4aed93202e2f0af04140": {
          "model_module": "@jupyter-widgets/base",
          "model_name": "LayoutModel",
          "model_module_version": "1.2.0",
          "state": {
            "_model_module": "@jupyter-widgets/base",
            "_model_module_version": "1.2.0",
            "_model_name": "LayoutModel",
            "_view_count": null,
            "_view_module": "@jupyter-widgets/base",
            "_view_module_version": "1.2.0",
            "_view_name": "LayoutView",
            "align_content": null,
            "align_items": null,
            "align_self": null,
            "border": null,
            "bottom": null,
            "display": null,
            "flex": null,
            "flex_flow": null,
            "grid_area": null,
            "grid_auto_columns": null,
            "grid_auto_flow": null,
            "grid_auto_rows": null,
            "grid_column": null,
            "grid_gap": null,
            "grid_row": null,
            "grid_template_areas": null,
            "grid_template_columns": null,
            "grid_template_rows": null,
            "height": null,
            "justify_content": null,
            "justify_items": null,
            "left": null,
            "margin": null,
            "max_height": null,
            "max_width": null,
            "min_height": null,
            "min_width": null,
            "object_fit": null,
            "object_position": null,
            "order": null,
            "overflow": null,
            "overflow_x": null,
            "overflow_y": null,
            "padding": null,
            "right": null,
            "top": null,
            "visibility": null,
            "width": null
          }
        },
        "7851076711464ea0bdd949470f992a83": {
          "model_module": "@jupyter-widgets/controls",
          "model_name": "DescriptionStyleModel",
          "model_module_version": "1.5.0",
          "state": {
            "_model_module": "@jupyter-widgets/controls",
            "_model_module_version": "1.5.0",
            "_model_name": "DescriptionStyleModel",
            "_view_count": null,
            "_view_module": "@jupyter-widgets/base",
            "_view_module_version": "1.2.0",
            "_view_name": "StyleView",
            "description_width": ""
          }
        },
        "18c9fb295beb458fb5c30de9a0b1a290": {
          "model_module": "@jupyter-widgets/base",
          "model_name": "LayoutModel",
          "model_module_version": "1.2.0",
          "state": {
            "_model_module": "@jupyter-widgets/base",
            "_model_module_version": "1.2.0",
            "_model_name": "LayoutModel",
            "_view_count": null,
            "_view_module": "@jupyter-widgets/base",
            "_view_module_version": "1.2.0",
            "_view_name": "LayoutView",
            "align_content": null,
            "align_items": null,
            "align_self": null,
            "border": null,
            "bottom": null,
            "display": null,
            "flex": null,
            "flex_flow": null,
            "grid_area": null,
            "grid_auto_columns": null,
            "grid_auto_flow": null,
            "grid_auto_rows": null,
            "grid_column": null,
            "grid_gap": null,
            "grid_row": null,
            "grid_template_areas": null,
            "grid_template_columns": null,
            "grid_template_rows": null,
            "height": null,
            "justify_content": null,
            "justify_items": null,
            "left": null,
            "margin": null,
            "max_height": null,
            "max_width": null,
            "min_height": null,
            "min_width": null,
            "object_fit": null,
            "object_position": null,
            "order": null,
            "overflow": null,
            "overflow_x": null,
            "overflow_y": null,
            "padding": null,
            "right": null,
            "top": null,
            "visibility": null,
            "width": null
          }
        },
        "3dfc548180934d0299ce006eb1140178": {
          "model_module": "@jupyter-widgets/controls",
          "model_name": "ProgressStyleModel",
          "model_module_version": "1.5.0",
          "state": {
            "_model_module": "@jupyter-widgets/controls",
            "_model_module_version": "1.5.0",
            "_model_name": "ProgressStyleModel",
            "_view_count": null,
            "_view_module": "@jupyter-widgets/base",
            "_view_module_version": "1.2.0",
            "_view_name": "StyleView",
            "bar_color": null,
            "description_width": ""
          }
        },
        "7db48c9286b84c99a073dbcc292b8b18": {
          "model_module": "@jupyter-widgets/base",
          "model_name": "LayoutModel",
          "model_module_version": "1.2.0",
          "state": {
            "_model_module": "@jupyter-widgets/base",
            "_model_module_version": "1.2.0",
            "_model_name": "LayoutModel",
            "_view_count": null,
            "_view_module": "@jupyter-widgets/base",
            "_view_module_version": "1.2.0",
            "_view_name": "LayoutView",
            "align_content": null,
            "align_items": null,
            "align_self": null,
            "border": null,
            "bottom": null,
            "display": null,
            "flex": null,
            "flex_flow": null,
            "grid_area": null,
            "grid_auto_columns": null,
            "grid_auto_flow": null,
            "grid_auto_rows": null,
            "grid_column": null,
            "grid_gap": null,
            "grid_row": null,
            "grid_template_areas": null,
            "grid_template_columns": null,
            "grid_template_rows": null,
            "height": null,
            "justify_content": null,
            "justify_items": null,
            "left": null,
            "margin": null,
            "max_height": null,
            "max_width": null,
            "min_height": null,
            "min_width": null,
            "object_fit": null,
            "object_position": null,
            "order": null,
            "overflow": null,
            "overflow_x": null,
            "overflow_y": null,
            "padding": null,
            "right": null,
            "top": null,
            "visibility": null,
            "width": null
          }
        },
        "03cf6aa9b7904c77bb00f20b1a479086": {
          "model_module": "@jupyter-widgets/controls",
          "model_name": "DescriptionStyleModel",
          "model_module_version": "1.5.0",
          "state": {
            "_model_module": "@jupyter-widgets/controls",
            "_model_module_version": "1.5.0",
            "_model_name": "DescriptionStyleModel",
            "_view_count": null,
            "_view_module": "@jupyter-widgets/base",
            "_view_module_version": "1.2.0",
            "_view_name": "StyleView",
            "description_width": ""
          }
        },
        "afc52f34b0134df19f61dec2a7b2de57": {
          "model_module": "@jupyter-widgets/controls",
          "model_name": "HBoxModel",
          "model_module_version": "1.5.0",
          "state": {
            "_dom_classes": [],
            "_model_module": "@jupyter-widgets/controls",
            "_model_module_version": "1.5.0",
            "_model_name": "HBoxModel",
            "_view_count": null,
            "_view_module": "@jupyter-widgets/controls",
            "_view_module_version": "1.5.0",
            "_view_name": "HBoxView",
            "box_style": "",
            "children": [
              "IPY_MODEL_c9af778f77624d0ca148cef18be2608e",
              "IPY_MODEL_5810f9659b2c48638e61ed06260f6788",
              "IPY_MODEL_b8e89c2ff972464b9eb408c0b37f3e34"
            ],
            "layout": "IPY_MODEL_cef79f3e6d5c43db91c9cbf9e5e112ce"
          }
        },
        "c9af778f77624d0ca148cef18be2608e": {
          "model_module": "@jupyter-widgets/controls",
          "model_name": "HTMLModel",
          "model_module_version": "1.5.0",
          "state": {
            "_dom_classes": [],
            "_model_module": "@jupyter-widgets/controls",
            "_model_module_version": "1.5.0",
            "_model_name": "HTMLModel",
            "_view_count": null,
            "_view_module": "@jupyter-widgets/controls",
            "_view_module_version": "1.5.0",
            "_view_name": "HTMLView",
            "description": "",
            "description_tooltip": null,
            "layout": "IPY_MODEL_9bd41bd5b58147fe90e073bf6e647ffd",
            "placeholder": "​",
            "style": "IPY_MODEL_1c4734ad774f491586de982d0e313fdb",
            "value": "Downloading (…)cial_tokens_map.json: 100%"
          }
        },
        "5810f9659b2c48638e61ed06260f6788": {
          "model_module": "@jupyter-widgets/controls",
          "model_name": "FloatProgressModel",
          "model_module_version": "1.5.0",
          "state": {
            "_dom_classes": [],
            "_model_module": "@jupyter-widgets/controls",
            "_model_module_version": "1.5.0",
            "_model_name": "FloatProgressModel",
            "_view_count": null,
            "_view_module": "@jupyter-widgets/controls",
            "_view_module_version": "1.5.0",
            "_view_name": "ProgressView",
            "bar_style": "success",
            "description": "",
            "description_tooltip": null,
            "layout": "IPY_MODEL_6457935ae4534308b80d5f1cdf065831",
            "max": 112,
            "min": 0,
            "orientation": "horizontal",
            "style": "IPY_MODEL_43a2b1356b6b451db3bbbbc9a2784522",
            "value": 112
          }
        },
        "b8e89c2ff972464b9eb408c0b37f3e34": {
          "model_module": "@jupyter-widgets/controls",
          "model_name": "HTMLModel",
          "model_module_version": "1.5.0",
          "state": {
            "_dom_classes": [],
            "_model_module": "@jupyter-widgets/controls",
            "_model_module_version": "1.5.0",
            "_model_name": "HTMLModel",
            "_view_count": null,
            "_view_module": "@jupyter-widgets/controls",
            "_view_module_version": "1.5.0",
            "_view_name": "HTMLView",
            "description": "",
            "description_tooltip": null,
            "layout": "IPY_MODEL_d335456f7eeb441b919e6499ccf79dd9",
            "placeholder": "​",
            "style": "IPY_MODEL_c2e5861bfa944876abb2394b636453e5",
            "value": " 112/112 [00:00&lt;00:00, 2.29kB/s]"
          }
        },
        "cef79f3e6d5c43db91c9cbf9e5e112ce": {
          "model_module": "@jupyter-widgets/base",
          "model_name": "LayoutModel",
          "model_module_version": "1.2.0",
          "state": {
            "_model_module": "@jupyter-widgets/base",
            "_model_module_version": "1.2.0",
            "_model_name": "LayoutModel",
            "_view_count": null,
            "_view_module": "@jupyter-widgets/base",
            "_view_module_version": "1.2.0",
            "_view_name": "LayoutView",
            "align_content": null,
            "align_items": null,
            "align_self": null,
            "border": null,
            "bottom": null,
            "display": null,
            "flex": null,
            "flex_flow": null,
            "grid_area": null,
            "grid_auto_columns": null,
            "grid_auto_flow": null,
            "grid_auto_rows": null,
            "grid_column": null,
            "grid_gap": null,
            "grid_row": null,
            "grid_template_areas": null,
            "grid_template_columns": null,
            "grid_template_rows": null,
            "height": null,
            "justify_content": null,
            "justify_items": null,
            "left": null,
            "margin": null,
            "max_height": null,
            "max_width": null,
            "min_height": null,
            "min_width": null,
            "object_fit": null,
            "object_position": null,
            "order": null,
            "overflow": null,
            "overflow_x": null,
            "overflow_y": null,
            "padding": null,
            "right": null,
            "top": null,
            "visibility": null,
            "width": null
          }
        },
        "9bd41bd5b58147fe90e073bf6e647ffd": {
          "model_module": "@jupyter-widgets/base",
          "model_name": "LayoutModel",
          "model_module_version": "1.2.0",
          "state": {
            "_model_module": "@jupyter-widgets/base",
            "_model_module_version": "1.2.0",
            "_model_name": "LayoutModel",
            "_view_count": null,
            "_view_module": "@jupyter-widgets/base",
            "_view_module_version": "1.2.0",
            "_view_name": "LayoutView",
            "align_content": null,
            "align_items": null,
            "align_self": null,
            "border": null,
            "bottom": null,
            "display": null,
            "flex": null,
            "flex_flow": null,
            "grid_area": null,
            "grid_auto_columns": null,
            "grid_auto_flow": null,
            "grid_auto_rows": null,
            "grid_column": null,
            "grid_gap": null,
            "grid_row": null,
            "grid_template_areas": null,
            "grid_template_columns": null,
            "grid_template_rows": null,
            "height": null,
            "justify_content": null,
            "justify_items": null,
            "left": null,
            "margin": null,
            "max_height": null,
            "max_width": null,
            "min_height": null,
            "min_width": null,
            "object_fit": null,
            "object_position": null,
            "order": null,
            "overflow": null,
            "overflow_x": null,
            "overflow_y": null,
            "padding": null,
            "right": null,
            "top": null,
            "visibility": null,
            "width": null
          }
        },
        "1c4734ad774f491586de982d0e313fdb": {
          "model_module": "@jupyter-widgets/controls",
          "model_name": "DescriptionStyleModel",
          "model_module_version": "1.5.0",
          "state": {
            "_model_module": "@jupyter-widgets/controls",
            "_model_module_version": "1.5.0",
            "_model_name": "DescriptionStyleModel",
            "_view_count": null,
            "_view_module": "@jupyter-widgets/base",
            "_view_module_version": "1.2.0",
            "_view_name": "StyleView",
            "description_width": ""
          }
        },
        "6457935ae4534308b80d5f1cdf065831": {
          "model_module": "@jupyter-widgets/base",
          "model_name": "LayoutModel",
          "model_module_version": "1.2.0",
          "state": {
            "_model_module": "@jupyter-widgets/base",
            "_model_module_version": "1.2.0",
            "_model_name": "LayoutModel",
            "_view_count": null,
            "_view_module": "@jupyter-widgets/base",
            "_view_module_version": "1.2.0",
            "_view_name": "LayoutView",
            "align_content": null,
            "align_items": null,
            "align_self": null,
            "border": null,
            "bottom": null,
            "display": null,
            "flex": null,
            "flex_flow": null,
            "grid_area": null,
            "grid_auto_columns": null,
            "grid_auto_flow": null,
            "grid_auto_rows": null,
            "grid_column": null,
            "grid_gap": null,
            "grid_row": null,
            "grid_template_areas": null,
            "grid_template_columns": null,
            "grid_template_rows": null,
            "height": null,
            "justify_content": null,
            "justify_items": null,
            "left": null,
            "margin": null,
            "max_height": null,
            "max_width": null,
            "min_height": null,
            "min_width": null,
            "object_fit": null,
            "object_position": null,
            "order": null,
            "overflow": null,
            "overflow_x": null,
            "overflow_y": null,
            "padding": null,
            "right": null,
            "top": null,
            "visibility": null,
            "width": null
          }
        },
        "43a2b1356b6b451db3bbbbc9a2784522": {
          "model_module": "@jupyter-widgets/controls",
          "model_name": "ProgressStyleModel",
          "model_module_version": "1.5.0",
          "state": {
            "_model_module": "@jupyter-widgets/controls",
            "_model_module_version": "1.5.0",
            "_model_name": "ProgressStyleModel",
            "_view_count": null,
            "_view_module": "@jupyter-widgets/base",
            "_view_module_version": "1.2.0",
            "_view_name": "StyleView",
            "bar_color": null,
            "description_width": ""
          }
        },
        "d335456f7eeb441b919e6499ccf79dd9": {
          "model_module": "@jupyter-widgets/base",
          "model_name": "LayoutModel",
          "model_module_version": "1.2.0",
          "state": {
            "_model_module": "@jupyter-widgets/base",
            "_model_module_version": "1.2.0",
            "_model_name": "LayoutModel",
            "_view_count": null,
            "_view_module": "@jupyter-widgets/base",
            "_view_module_version": "1.2.0",
            "_view_name": "LayoutView",
            "align_content": null,
            "align_items": null,
            "align_self": null,
            "border": null,
            "bottom": null,
            "display": null,
            "flex": null,
            "flex_flow": null,
            "grid_area": null,
            "grid_auto_columns": null,
            "grid_auto_flow": null,
            "grid_auto_rows": null,
            "grid_column": null,
            "grid_gap": null,
            "grid_row": null,
            "grid_template_areas": null,
            "grid_template_columns": null,
            "grid_template_rows": null,
            "height": null,
            "justify_content": null,
            "justify_items": null,
            "left": null,
            "margin": null,
            "max_height": null,
            "max_width": null,
            "min_height": null,
            "min_width": null,
            "object_fit": null,
            "object_position": null,
            "order": null,
            "overflow": null,
            "overflow_x": null,
            "overflow_y": null,
            "padding": null,
            "right": null,
            "top": null,
            "visibility": null,
            "width": null
          }
        },
        "c2e5861bfa944876abb2394b636453e5": {
          "model_module": "@jupyter-widgets/controls",
          "model_name": "DescriptionStyleModel",
          "model_module_version": "1.5.0",
          "state": {
            "_model_module": "@jupyter-widgets/controls",
            "_model_module_version": "1.5.0",
            "_model_name": "DescriptionStyleModel",
            "_view_count": null,
            "_view_module": "@jupyter-widgets/base",
            "_view_module_version": "1.2.0",
            "_view_name": "StyleView",
            "description_width": ""
          }
        }
      }
    }
  },
  "cells": [
    {
      "cell_type": "code",
      "execution_count": 1,
      "metadata": {
        "id": "KICVDpHmcTbq"
      },
      "outputs": [],
      "source": [
        "import pandas as pd # Библиотека Pandas для работы с табличными данными\n",
        "from google.colab import files  # чтобы загружать файлы в облако через проводник \n",
        "\n",
        "import numpy as np # библиотека Numpy для операций линейной алгебры и прочего\n",
        "import matplotlib.pyplot as plt # библиотека MatPlotLib для визуализации\n",
        "import seaborn as sns; sns.set() # библиотека Seaborn для визуализации данных из Pandas\n",
        "import json"
      ]
    },
    {
      "cell_type": "code",
      "source": [
        "pd.set_option('display.max_columns', None)\n",
        "pd.set_option('display.max_rows', None)"
      ],
      "metadata": {
        "id": "4-f_MHzcybp0"
      },
      "execution_count": 2,
      "outputs": []
    },
    {
      "cell_type": "code",
      "source": [
        "uploaded = files.upload() #просто запускаем и выбираем файл в проводнике"
      ],
      "metadata": {
        "colab": {
          "base_uri": "https://localhost:8080/",
          "height": 73
        },
        "id": "9LuoQ8Evdh6Y",
        "outputId": "00f8cba6-9570-4f4a-a8e7-1dd17356322b"
      },
      "execution_count": 3,
      "outputs": [
        {
          "output_type": "display_data",
          "data": {
            "text/plain": [
              "<IPython.core.display.HTML object>"
            ],
            "text/html": [
              "\n",
              "     <input type=\"file\" id=\"files-e76da7ea-a6b1-45b7-ae2a-d7f3c4fb3f7e\" name=\"files[]\" multiple disabled\n",
              "        style=\"border:none\" />\n",
              "     <output id=\"result-e76da7ea-a6b1-45b7-ae2a-d7f3c4fb3f7e\">\n",
              "      Upload widget is only available when the cell has been executed in the\n",
              "      current browser session. Please rerun this cell to enable.\n",
              "      </output>\n",
              "      <script>// Copyright 2017 Google LLC\n",
              "//\n",
              "// Licensed under the Apache License, Version 2.0 (the \"License\");\n",
              "// you may not use this file except in compliance with the License.\n",
              "// You may obtain a copy of the License at\n",
              "//\n",
              "//      http://www.apache.org/licenses/LICENSE-2.0\n",
              "//\n",
              "// Unless required by applicable law or agreed to in writing, software\n",
              "// distributed under the License is distributed on an \"AS IS\" BASIS,\n",
              "// WITHOUT WARRANTIES OR CONDITIONS OF ANY KIND, either express or implied.\n",
              "// See the License for the specific language governing permissions and\n",
              "// limitations under the License.\n",
              "\n",
              "/**\n",
              " * @fileoverview Helpers for google.colab Python module.\n",
              " */\n",
              "(function(scope) {\n",
              "function span(text, styleAttributes = {}) {\n",
              "  const element = document.createElement('span');\n",
              "  element.textContent = text;\n",
              "  for (const key of Object.keys(styleAttributes)) {\n",
              "    element.style[key] = styleAttributes[key];\n",
              "  }\n",
              "  return element;\n",
              "}\n",
              "\n",
              "// Max number of bytes which will be uploaded at a time.\n",
              "const MAX_PAYLOAD_SIZE = 100 * 1024;\n",
              "\n",
              "function _uploadFiles(inputId, outputId) {\n",
              "  const steps = uploadFilesStep(inputId, outputId);\n",
              "  const outputElement = document.getElementById(outputId);\n",
              "  // Cache steps on the outputElement to make it available for the next call\n",
              "  // to uploadFilesContinue from Python.\n",
              "  outputElement.steps = steps;\n",
              "\n",
              "  return _uploadFilesContinue(outputId);\n",
              "}\n",
              "\n",
              "// This is roughly an async generator (not supported in the browser yet),\n",
              "// where there are multiple asynchronous steps and the Python side is going\n",
              "// to poll for completion of each step.\n",
              "// This uses a Promise to block the python side on completion of each step,\n",
              "// then passes the result of the previous step as the input to the next step.\n",
              "function _uploadFilesContinue(outputId) {\n",
              "  const outputElement = document.getElementById(outputId);\n",
              "  const steps = outputElement.steps;\n",
              "\n",
              "  const next = steps.next(outputElement.lastPromiseValue);\n",
              "  return Promise.resolve(next.value.promise).then((value) => {\n",
              "    // Cache the last promise value to make it available to the next\n",
              "    // step of the generator.\n",
              "    outputElement.lastPromiseValue = value;\n",
              "    return next.value.response;\n",
              "  });\n",
              "}\n",
              "\n",
              "/**\n",
              " * Generator function which is called between each async step of the upload\n",
              " * process.\n",
              " * @param {string} inputId Element ID of the input file picker element.\n",
              " * @param {string} outputId Element ID of the output display.\n",
              " * @return {!Iterable<!Object>} Iterable of next steps.\n",
              " */\n",
              "function* uploadFilesStep(inputId, outputId) {\n",
              "  const inputElement = document.getElementById(inputId);\n",
              "  inputElement.disabled = false;\n",
              "\n",
              "  const outputElement = document.getElementById(outputId);\n",
              "  outputElement.innerHTML = '';\n",
              "\n",
              "  const pickedPromise = new Promise((resolve) => {\n",
              "    inputElement.addEventListener('change', (e) => {\n",
              "      resolve(e.target.files);\n",
              "    });\n",
              "  });\n",
              "\n",
              "  const cancel = document.createElement('button');\n",
              "  inputElement.parentElement.appendChild(cancel);\n",
              "  cancel.textContent = 'Cancel upload';\n",
              "  const cancelPromise = new Promise((resolve) => {\n",
              "    cancel.onclick = () => {\n",
              "      resolve(null);\n",
              "    };\n",
              "  });\n",
              "\n",
              "  // Wait for the user to pick the files.\n",
              "  const files = yield {\n",
              "    promise: Promise.race([pickedPromise, cancelPromise]),\n",
              "    response: {\n",
              "      action: 'starting',\n",
              "    }\n",
              "  };\n",
              "\n",
              "  cancel.remove();\n",
              "\n",
              "  // Disable the input element since further picks are not allowed.\n",
              "  inputElement.disabled = true;\n",
              "\n",
              "  if (!files) {\n",
              "    return {\n",
              "      response: {\n",
              "        action: 'complete',\n",
              "      }\n",
              "    };\n",
              "  }\n",
              "\n",
              "  for (const file of files) {\n",
              "    const li = document.createElement('li');\n",
              "    li.append(span(file.name, {fontWeight: 'bold'}));\n",
              "    li.append(span(\n",
              "        `(${file.type || 'n/a'}) - ${file.size} bytes, ` +\n",
              "        `last modified: ${\n",
              "            file.lastModifiedDate ? file.lastModifiedDate.toLocaleDateString() :\n",
              "                                    'n/a'} - `));\n",
              "    const percent = span('0% done');\n",
              "    li.appendChild(percent);\n",
              "\n",
              "    outputElement.appendChild(li);\n",
              "\n",
              "    const fileDataPromise = new Promise((resolve) => {\n",
              "      const reader = new FileReader();\n",
              "      reader.onload = (e) => {\n",
              "        resolve(e.target.result);\n",
              "      };\n",
              "      reader.readAsArrayBuffer(file);\n",
              "    });\n",
              "    // Wait for the data to be ready.\n",
              "    let fileData = yield {\n",
              "      promise: fileDataPromise,\n",
              "      response: {\n",
              "        action: 'continue',\n",
              "      }\n",
              "    };\n",
              "\n",
              "    // Use a chunked sending to avoid message size limits. See b/62115660.\n",
              "    let position = 0;\n",
              "    do {\n",
              "      const length = Math.min(fileData.byteLength - position, MAX_PAYLOAD_SIZE);\n",
              "      const chunk = new Uint8Array(fileData, position, length);\n",
              "      position += length;\n",
              "\n",
              "      const base64 = btoa(String.fromCharCode.apply(null, chunk));\n",
              "      yield {\n",
              "        response: {\n",
              "          action: 'append',\n",
              "          file: file.name,\n",
              "          data: base64,\n",
              "        },\n",
              "      };\n",
              "\n",
              "      let percentDone = fileData.byteLength === 0 ?\n",
              "          100 :\n",
              "          Math.round((position / fileData.byteLength) * 100);\n",
              "      percent.textContent = `${percentDone}% done`;\n",
              "\n",
              "    } while (position < fileData.byteLength);\n",
              "  }\n",
              "\n",
              "  // All done.\n",
              "  yield {\n",
              "    response: {\n",
              "      action: 'complete',\n",
              "    }\n",
              "  };\n",
              "}\n",
              "\n",
              "scope.google = scope.google || {};\n",
              "scope.google.colab = scope.google.colab || {};\n",
              "scope.google.colab._files = {\n",
              "  _uploadFiles,\n",
              "  _uploadFilesContinue,\n",
              "};\n",
              "})(self);\n",
              "</script> "
            ]
          },
          "metadata": {}
        },
        {
          "output_type": "stream",
          "name": "stdout",
          "text": [
            "Saving CleanSubmissionsWithForms.json to CleanSubmissionsWithForms.json\n"
          ]
        }
      ]
    },
    {
      "cell_type": "code",
      "source": [
        "df = pd.read_json('/content/CleanSubmissionsWithForms.json')"
      ],
      "metadata": {
        "id": "2uiMVbI_u5Yv"
      },
      "execution_count": 4,
      "outputs": []
    },
    {
      "cell_type": "markdown",
      "source": [
        "### Dataset cleanup"
      ],
      "metadata": {
        "id": "cETh5aoWgXOx"
      }
    },
    {
      "cell_type": "code",
      "source": [
        "df.head(15)"
      ],
      "metadata": {
        "colab": {
          "base_uri": "https://localhost:8080/",
          "height": 1000
        },
        "id": "S9pZrXDLdl4G",
        "outputId": "3ae1a004-3dec-4d86-f4c0-1211d8ed2dd4"
      },
      "execution_count": 5,
      "outputs": [
        {
          "output_type": "execute_result",
          "data": {
            "text/plain": [
              "    id  SubmissionLikes                                       Category  \\\n",
              "0    7               67  Общественные пространства, природа и экология   \n",
              "1    8               61  Общественные пространства, природа и экология   \n",
              "2    9              109                             Дороги и транспорт   \n",
              "3   10               44  Общественные пространства, природа и экология   \n",
              "4   11              185        Здоровье, образование, спорт и культура   \n",
              "5   12              116  Общественные пространства, природа и экология   \n",
              "6   13              123                             Дороги и транспорт   \n",
              "7   14              152                             Дороги и транспорт   \n",
              "8   15              101        Здоровье, образование, спорт и культура   \n",
              "9   16              137                             Дороги и транспорт   \n",
              "10  17               68  Общественные пространства, природа и экология   \n",
              "11  18               75  Общественные пространства, природа и экология   \n",
              "12  19               47  Общественные пространства, природа и экология   \n",
              "13  20               80                             Дороги и транспорт   \n",
              "14  21               83        Здоровье, образование, спорт и культура   \n",
              "\n",
              "                                          Description Participation  \\\n",
              "0   Благоустроить Силинский лес: освещение, дорожк...           Нет   \n",
              "1                         Благоустроить Силинский лес           Нет   \n",
              "2   Здание автовокзала требует колоссальной реконс...           Нет   \n",
              "3   Ремонтируют парк очень плохо, страшно коляской...           Нет   \n",
              "4                      Реконструкция ДК Судостроитель           Нет   \n",
              "5    привести в современное состояние парки города...            Да   \n",
              "6   Возрождение муниципального транспорта-автобусы...           Нет   \n",
              "7   Восстановить нормальную работу Комсомольского ...           Нет   \n",
              "8   Предлагаю провести реконструкцию одной из глав...           Нет   \n",
              "9   Учитывая,  что у нас в городе с очисткой дорог...            Да   \n",
              "10           Набережная зимой не очищается от снега.            Нет   \n",
              "11  Привести в порядок заброшенный парк. Восстанов...            Да   \n",
              "12                Привести в порядок заброшенный парк            Да   \n",
              "13   Восстановить трамвайную линию и пустить маршруты           Нет   \n",
              "14            Реконструкция дома культуры \"Строитель\"            Да   \n",
              "\n",
              "           Money    Age  ContactName          LiveTime FeatureType  \\\n",
              "0   Пока не знаю  40-65       Лариса        С рождения     Feature   \n",
              "1   Пока не знаю  40-65       Лариса        С рождения     Feature   \n",
              "2      Бюджетные  25-40         Олег       Более 5 лет     Feature   \n",
              "3      Бюджетные  До 25       ОльгаЛ        С рождения     Feature   \n",
              "4      Бюджетные  25-40   Александра     Жил, но уехал     Feature   \n",
              "5   Пока не знаю  40-65        Елена        С рождения     Feature   \n",
              "6      Бюджетные  40-65       СЕРГЕЙ       Более 5 лет     Feature   \n",
              "7      Бюджетные  40-65        Елена        С рождения     Feature   \n",
              "8      Бюджетные  25-40       Сергей        С рождения     Feature   \n",
              "9      Бюджетные  40-65        Игорь       Более 5 лет     Feature   \n",
              "10     Бюджетные  40-65        Игорь  Я здесь временно     Feature   \n",
              "11     Бюджетные  25-40        Игорь        С рождения     Feature   \n",
              "12     Бюджетные  40-65        Игорь       Более 5 лет     Feature   \n",
              "13  Пока не знаю  40-65        Игорь       Более 5 лет     Feature   \n",
              "14  Пока не знаю  25-40  Александра        Более 5 лет     Feature   \n",
              "\n",
              "   GeometryType  CoordinatesLongitude  CoordinatesLatitude  \\\n",
              "0         Point              0.000000             0.000000   \n",
              "1         Point            137.041787            50.572570   \n",
              "2         Point            137.031797            50.533640   \n",
              "3         Point            137.026578            50.543906   \n",
              "4         Point            137.022575            50.542521   \n",
              "5         Point              0.000000             0.000000   \n",
              "6         Point              0.000000             0.000000   \n",
              "7         Point            136.935375            50.406823   \n",
              "8         Point              0.000000             0.000000   \n",
              "9         Point              0.000000             0.000000   \n",
              "10        Point            137.029164            50.532024   \n",
              "11        Point            137.027190            50.544226   \n",
              "12        Point            137.011793            50.549180   \n",
              "13        Point            137.048723            50.565652   \n",
              "14        Point            137.009623            50.549296   \n",
              "\n",
              "                   CreatedAt Gender  \n",
              "0   2023-03-06T09:38:48.587Z      f  \n",
              "1   2023-03-06T09:40:23.085Z      f  \n",
              "2   2023-03-06T09:54:31.566Z      m  \n",
              "3   2023-03-06T10:07:14.739Z   None  \n",
              "4   2023-03-15T07:08:22.533Z      f  \n",
              "5   2023-03-15T07:23:58.030Z      f  \n",
              "6   2023-03-15T07:27:43.646Z      m  \n",
              "7   2023-03-15T07:38:16.299Z      f  \n",
              "8   2023-03-15T08:08:30.840Z      m  \n",
              "9   2023-03-16T00:29:34.708Z      m  \n",
              "10  2023-03-16T06:54:34.305Z      m  \n",
              "11  2023-03-16T06:55:47.504Z      m  \n",
              "12  2023-03-16T06:56:50.939Z      m  \n",
              "13  2023-03-16T06:57:45.556Z      m  \n",
              "14  2023-03-16T10:22:27.745Z      f  "
            ],
            "text/html": [
              "\n",
              "  <div id=\"df-5c862318-38cf-4b2e-baa2-90bb6309db20\">\n",
              "    <div class=\"colab-df-container\">\n",
              "      <div>\n",
              "<style scoped>\n",
              "    .dataframe tbody tr th:only-of-type {\n",
              "        vertical-align: middle;\n",
              "    }\n",
              "\n",
              "    .dataframe tbody tr th {\n",
              "        vertical-align: top;\n",
              "    }\n",
              "\n",
              "    .dataframe thead th {\n",
              "        text-align: right;\n",
              "    }\n",
              "</style>\n",
              "<table border=\"1\" class=\"dataframe\">\n",
              "  <thead>\n",
              "    <tr style=\"text-align: right;\">\n",
              "      <th></th>\n",
              "      <th>id</th>\n",
              "      <th>SubmissionLikes</th>\n",
              "      <th>Category</th>\n",
              "      <th>Description</th>\n",
              "      <th>Participation</th>\n",
              "      <th>Money</th>\n",
              "      <th>Age</th>\n",
              "      <th>ContactName</th>\n",
              "      <th>LiveTime</th>\n",
              "      <th>FeatureType</th>\n",
              "      <th>GeometryType</th>\n",
              "      <th>CoordinatesLongitude</th>\n",
              "      <th>CoordinatesLatitude</th>\n",
              "      <th>CreatedAt</th>\n",
              "      <th>Gender</th>\n",
              "    </tr>\n",
              "  </thead>\n",
              "  <tbody>\n",
              "    <tr>\n",
              "      <th>0</th>\n",
              "      <td>7</td>\n",
              "      <td>67</td>\n",
              "      <td>Общественные пространства, природа и экология</td>\n",
              "      <td>Благоустроить Силинский лес: освещение, дорожк...</td>\n",
              "      <td>Нет</td>\n",
              "      <td>Пока не знаю</td>\n",
              "      <td>40-65</td>\n",
              "      <td>Лариса</td>\n",
              "      <td>С рождения</td>\n",
              "      <td>Feature</td>\n",
              "      <td>Point</td>\n",
              "      <td>0.000000</td>\n",
              "      <td>0.000000</td>\n",
              "      <td>2023-03-06T09:38:48.587Z</td>\n",
              "      <td>f</td>\n",
              "    </tr>\n",
              "    <tr>\n",
              "      <th>1</th>\n",
              "      <td>8</td>\n",
              "      <td>61</td>\n",
              "      <td>Общественные пространства, природа и экология</td>\n",
              "      <td>Благоустроить Силинский лес</td>\n",
              "      <td>Нет</td>\n",
              "      <td>Пока не знаю</td>\n",
              "      <td>40-65</td>\n",
              "      <td>Лариса</td>\n",
              "      <td>С рождения</td>\n",
              "      <td>Feature</td>\n",
              "      <td>Point</td>\n",
              "      <td>137.041787</td>\n",
              "      <td>50.572570</td>\n",
              "      <td>2023-03-06T09:40:23.085Z</td>\n",
              "      <td>f</td>\n",
              "    </tr>\n",
              "    <tr>\n",
              "      <th>2</th>\n",
              "      <td>9</td>\n",
              "      <td>109</td>\n",
              "      <td>Дороги и транспорт</td>\n",
              "      <td>Здание автовокзала требует колоссальной реконс...</td>\n",
              "      <td>Нет</td>\n",
              "      <td>Бюджетные</td>\n",
              "      <td>25-40</td>\n",
              "      <td>Олег</td>\n",
              "      <td>Более 5 лет</td>\n",
              "      <td>Feature</td>\n",
              "      <td>Point</td>\n",
              "      <td>137.031797</td>\n",
              "      <td>50.533640</td>\n",
              "      <td>2023-03-06T09:54:31.566Z</td>\n",
              "      <td>m</td>\n",
              "    </tr>\n",
              "    <tr>\n",
              "      <th>3</th>\n",
              "      <td>10</td>\n",
              "      <td>44</td>\n",
              "      <td>Общественные пространства, природа и экология</td>\n",
              "      <td>Ремонтируют парк очень плохо, страшно коляской...</td>\n",
              "      <td>Нет</td>\n",
              "      <td>Бюджетные</td>\n",
              "      <td>До 25</td>\n",
              "      <td>ОльгаЛ</td>\n",
              "      <td>С рождения</td>\n",
              "      <td>Feature</td>\n",
              "      <td>Point</td>\n",
              "      <td>137.026578</td>\n",
              "      <td>50.543906</td>\n",
              "      <td>2023-03-06T10:07:14.739Z</td>\n",
              "      <td>None</td>\n",
              "    </tr>\n",
              "    <tr>\n",
              "      <th>4</th>\n",
              "      <td>11</td>\n",
              "      <td>185</td>\n",
              "      <td>Здоровье, образование, спорт и культура</td>\n",
              "      <td>Реконструкция ДК Судостроитель</td>\n",
              "      <td>Нет</td>\n",
              "      <td>Бюджетные</td>\n",
              "      <td>25-40</td>\n",
              "      <td>Александра</td>\n",
              "      <td>Жил, но уехал</td>\n",
              "      <td>Feature</td>\n",
              "      <td>Point</td>\n",
              "      <td>137.022575</td>\n",
              "      <td>50.542521</td>\n",
              "      <td>2023-03-15T07:08:22.533Z</td>\n",
              "      <td>f</td>\n",
              "    </tr>\n",
              "    <tr>\n",
              "      <th>5</th>\n",
              "      <td>12</td>\n",
              "      <td>116</td>\n",
              "      <td>Общественные пространства, природа и экология</td>\n",
              "      <td>привести в современное состояние парки города...</td>\n",
              "      <td>Да</td>\n",
              "      <td>Пока не знаю</td>\n",
              "      <td>40-65</td>\n",
              "      <td>Елена</td>\n",
              "      <td>С рождения</td>\n",
              "      <td>Feature</td>\n",
              "      <td>Point</td>\n",
              "      <td>0.000000</td>\n",
              "      <td>0.000000</td>\n",
              "      <td>2023-03-15T07:23:58.030Z</td>\n",
              "      <td>f</td>\n",
              "    </tr>\n",
              "    <tr>\n",
              "      <th>6</th>\n",
              "      <td>13</td>\n",
              "      <td>123</td>\n",
              "      <td>Дороги и транспорт</td>\n",
              "      <td>Возрождение муниципального транспорта-автобусы...</td>\n",
              "      <td>Нет</td>\n",
              "      <td>Бюджетные</td>\n",
              "      <td>40-65</td>\n",
              "      <td>СЕРГЕЙ</td>\n",
              "      <td>Более 5 лет</td>\n",
              "      <td>Feature</td>\n",
              "      <td>Point</td>\n",
              "      <td>0.000000</td>\n",
              "      <td>0.000000</td>\n",
              "      <td>2023-03-15T07:27:43.646Z</td>\n",
              "      <td>m</td>\n",
              "    </tr>\n",
              "    <tr>\n",
              "      <th>7</th>\n",
              "      <td>14</td>\n",
              "      <td>152</td>\n",
              "      <td>Дороги и транспорт</td>\n",
              "      <td>Восстановить нормальную работу Комсомольского ...</td>\n",
              "      <td>Нет</td>\n",
              "      <td>Бюджетные</td>\n",
              "      <td>40-65</td>\n",
              "      <td>Елена</td>\n",
              "      <td>С рождения</td>\n",
              "      <td>Feature</td>\n",
              "      <td>Point</td>\n",
              "      <td>136.935375</td>\n",
              "      <td>50.406823</td>\n",
              "      <td>2023-03-15T07:38:16.299Z</td>\n",
              "      <td>f</td>\n",
              "    </tr>\n",
              "    <tr>\n",
              "      <th>8</th>\n",
              "      <td>15</td>\n",
              "      <td>101</td>\n",
              "      <td>Здоровье, образование, спорт и культура</td>\n",
              "      <td>Предлагаю провести реконструкцию одной из глав...</td>\n",
              "      <td>Нет</td>\n",
              "      <td>Бюджетные</td>\n",
              "      <td>25-40</td>\n",
              "      <td>Сергей</td>\n",
              "      <td>С рождения</td>\n",
              "      <td>Feature</td>\n",
              "      <td>Point</td>\n",
              "      <td>0.000000</td>\n",
              "      <td>0.000000</td>\n",
              "      <td>2023-03-15T08:08:30.840Z</td>\n",
              "      <td>m</td>\n",
              "    </tr>\n",
              "    <tr>\n",
              "      <th>9</th>\n",
              "      <td>16</td>\n",
              "      <td>137</td>\n",
              "      <td>Дороги и транспорт</td>\n",
              "      <td>Учитывая,  что у нас в городе с очисткой дорог...</td>\n",
              "      <td>Да</td>\n",
              "      <td>Бюджетные</td>\n",
              "      <td>40-65</td>\n",
              "      <td>Игорь</td>\n",
              "      <td>Более 5 лет</td>\n",
              "      <td>Feature</td>\n",
              "      <td>Point</td>\n",
              "      <td>0.000000</td>\n",
              "      <td>0.000000</td>\n",
              "      <td>2023-03-16T00:29:34.708Z</td>\n",
              "      <td>m</td>\n",
              "    </tr>\n",
              "    <tr>\n",
              "      <th>10</th>\n",
              "      <td>17</td>\n",
              "      <td>68</td>\n",
              "      <td>Общественные пространства, природа и экология</td>\n",
              "      <td>Набережная зимой не очищается от снега.</td>\n",
              "      <td>Нет</td>\n",
              "      <td>Бюджетные</td>\n",
              "      <td>40-65</td>\n",
              "      <td>Игорь</td>\n",
              "      <td>Я здесь временно</td>\n",
              "      <td>Feature</td>\n",
              "      <td>Point</td>\n",
              "      <td>137.029164</td>\n",
              "      <td>50.532024</td>\n",
              "      <td>2023-03-16T06:54:34.305Z</td>\n",
              "      <td>m</td>\n",
              "    </tr>\n",
              "    <tr>\n",
              "      <th>11</th>\n",
              "      <td>18</td>\n",
              "      <td>75</td>\n",
              "      <td>Общественные пространства, природа и экология</td>\n",
              "      <td>Привести в порядок заброшенный парк. Восстанов...</td>\n",
              "      <td>Да</td>\n",
              "      <td>Бюджетные</td>\n",
              "      <td>25-40</td>\n",
              "      <td>Игорь</td>\n",
              "      <td>С рождения</td>\n",
              "      <td>Feature</td>\n",
              "      <td>Point</td>\n",
              "      <td>137.027190</td>\n",
              "      <td>50.544226</td>\n",
              "      <td>2023-03-16T06:55:47.504Z</td>\n",
              "      <td>m</td>\n",
              "    </tr>\n",
              "    <tr>\n",
              "      <th>12</th>\n",
              "      <td>19</td>\n",
              "      <td>47</td>\n",
              "      <td>Общественные пространства, природа и экология</td>\n",
              "      <td>Привести в порядок заброшенный парк</td>\n",
              "      <td>Да</td>\n",
              "      <td>Бюджетные</td>\n",
              "      <td>40-65</td>\n",
              "      <td>Игорь</td>\n",
              "      <td>Более 5 лет</td>\n",
              "      <td>Feature</td>\n",
              "      <td>Point</td>\n",
              "      <td>137.011793</td>\n",
              "      <td>50.549180</td>\n",
              "      <td>2023-03-16T06:56:50.939Z</td>\n",
              "      <td>m</td>\n",
              "    </tr>\n",
              "    <tr>\n",
              "      <th>13</th>\n",
              "      <td>20</td>\n",
              "      <td>80</td>\n",
              "      <td>Дороги и транспорт</td>\n",
              "      <td>Восстановить трамвайную линию и пустить маршруты</td>\n",
              "      <td>Нет</td>\n",
              "      <td>Пока не знаю</td>\n",
              "      <td>40-65</td>\n",
              "      <td>Игорь</td>\n",
              "      <td>Более 5 лет</td>\n",
              "      <td>Feature</td>\n",
              "      <td>Point</td>\n",
              "      <td>137.048723</td>\n",
              "      <td>50.565652</td>\n",
              "      <td>2023-03-16T06:57:45.556Z</td>\n",
              "      <td>m</td>\n",
              "    </tr>\n",
              "    <tr>\n",
              "      <th>14</th>\n",
              "      <td>21</td>\n",
              "      <td>83</td>\n",
              "      <td>Здоровье, образование, спорт и культура</td>\n",
              "      <td>Реконструкция дома культуры \"Строитель\"</td>\n",
              "      <td>Да</td>\n",
              "      <td>Пока не знаю</td>\n",
              "      <td>25-40</td>\n",
              "      <td>Александра</td>\n",
              "      <td>Более 5 лет</td>\n",
              "      <td>Feature</td>\n",
              "      <td>Point</td>\n",
              "      <td>137.009623</td>\n",
              "      <td>50.549296</td>\n",
              "      <td>2023-03-16T10:22:27.745Z</td>\n",
              "      <td>f</td>\n",
              "    </tr>\n",
              "  </tbody>\n",
              "</table>\n",
              "</div>\n",
              "      <button class=\"colab-df-convert\" onclick=\"convertToInteractive('df-5c862318-38cf-4b2e-baa2-90bb6309db20')\"\n",
              "              title=\"Convert this dataframe to an interactive table.\"\n",
              "              style=\"display:none;\">\n",
              "        \n",
              "  <svg xmlns=\"http://www.w3.org/2000/svg\" height=\"24px\"viewBox=\"0 0 24 24\"\n",
              "       width=\"24px\">\n",
              "    <path d=\"M0 0h24v24H0V0z\" fill=\"none\"/>\n",
              "    <path d=\"M18.56 5.44l.94 2.06.94-2.06 2.06-.94-2.06-.94-.94-2.06-.94 2.06-2.06.94zm-11 1L8.5 8.5l.94-2.06 2.06-.94-2.06-.94L8.5 2.5l-.94 2.06-2.06.94zm10 10l.94 2.06.94-2.06 2.06-.94-2.06-.94-.94-2.06-.94 2.06-2.06.94z\"/><path d=\"M17.41 7.96l-1.37-1.37c-.4-.4-.92-.59-1.43-.59-.52 0-1.04.2-1.43.59L10.3 9.45l-7.72 7.72c-.78.78-.78 2.05 0 2.83L4 21.41c.39.39.9.59 1.41.59.51 0 1.02-.2 1.41-.59l7.78-7.78 2.81-2.81c.8-.78.8-2.07 0-2.86zM5.41 20L4 18.59l7.72-7.72 1.47 1.35L5.41 20z\"/>\n",
              "  </svg>\n",
              "      </button>\n",
              "      \n",
              "  <style>\n",
              "    .colab-df-container {\n",
              "      display:flex;\n",
              "      flex-wrap:wrap;\n",
              "      gap: 12px;\n",
              "    }\n",
              "\n",
              "    .colab-df-convert {\n",
              "      background-color: #E8F0FE;\n",
              "      border: none;\n",
              "      border-radius: 50%;\n",
              "      cursor: pointer;\n",
              "      display: none;\n",
              "      fill: #1967D2;\n",
              "      height: 32px;\n",
              "      padding: 0 0 0 0;\n",
              "      width: 32px;\n",
              "    }\n",
              "\n",
              "    .colab-df-convert:hover {\n",
              "      background-color: #E2EBFA;\n",
              "      box-shadow: 0px 1px 2px rgba(60, 64, 67, 0.3), 0px 1px 3px 1px rgba(60, 64, 67, 0.15);\n",
              "      fill: #174EA6;\n",
              "    }\n",
              "\n",
              "    [theme=dark] .colab-df-convert {\n",
              "      background-color: #3B4455;\n",
              "      fill: #D2E3FC;\n",
              "    }\n",
              "\n",
              "    [theme=dark] .colab-df-convert:hover {\n",
              "      background-color: #434B5C;\n",
              "      box-shadow: 0px 1px 3px 1px rgba(0, 0, 0, 0.15);\n",
              "      filter: drop-shadow(0px 1px 2px rgba(0, 0, 0, 0.3));\n",
              "      fill: #FFFFFF;\n",
              "    }\n",
              "  </style>\n",
              "\n",
              "      <script>\n",
              "        const buttonEl =\n",
              "          document.querySelector('#df-5c862318-38cf-4b2e-baa2-90bb6309db20 button.colab-df-convert');\n",
              "        buttonEl.style.display =\n",
              "          google.colab.kernel.accessAllowed ? 'block' : 'none';\n",
              "\n",
              "        async function convertToInteractive(key) {\n",
              "          const element = document.querySelector('#df-5c862318-38cf-4b2e-baa2-90bb6309db20');\n",
              "          const dataTable =\n",
              "            await google.colab.kernel.invokeFunction('convertToInteractive',\n",
              "                                                     [key], {});\n",
              "          if (!dataTable) return;\n",
              "\n",
              "          const docLinkHtml = 'Like what you see? Visit the ' +\n",
              "            '<a target=\"_blank\" href=https://colab.research.google.com/notebooks/data_table.ipynb>data table notebook</a>'\n",
              "            + ' to learn more about interactive tables.';\n",
              "          element.innerHTML = '';\n",
              "          dataTable['output_type'] = 'display_data';\n",
              "          await google.colab.output.renderOutput(dataTable, element);\n",
              "          const docLink = document.createElement('div');\n",
              "          docLink.innerHTML = docLinkHtml;\n",
              "          element.appendChild(docLink);\n",
              "        }\n",
              "      </script>\n",
              "    </div>\n",
              "  </div>\n",
              "  "
            ]
          },
          "metadata": {},
          "execution_count": 5
        }
      ]
    },
    {
      "cell_type": "code",
      "source": [
        "df['SubmissionLikes'].sum()"
      ],
      "metadata": {
        "colab": {
          "base_uri": "https://localhost:8080/"
        },
        "id": "keIZAObdwrOT",
        "outputId": "dd6874db-a4da-49d7-ccdb-edd022262640"
      },
      "execution_count": 6,
      "outputs": [
        {
          "output_type": "execute_result",
          "data": {
            "text/plain": [
              "4514"
            ]
          },
          "metadata": {},
          "execution_count": 6
        }
      ]
    },
    {
      "cell_type": "code",
      "source": [
        "df['Age'].value_counts()"
      ],
      "metadata": {
        "colab": {
          "base_uri": "https://localhost:8080/"
        },
        "id": "mgxtjdfQgqrz",
        "outputId": "17da6675-0b6a-450b-c1fa-a2596ff140d9"
      },
      "execution_count": 7,
      "outputs": [
        {
          "output_type": "execute_result",
          "data": {
            "text/plain": [
              "25-40       76\n",
              "40-65       56\n",
              "До 25       11\n",
              "Более 65     2\n",
              "Name: Age, dtype: int64"
            ]
          },
          "metadata": {},
          "execution_count": 7
        }
      ]
    },
    {
      "cell_type": "code",
      "source": [
        "def get_mean_age(age_str):\n",
        "    if age_str == 'До 25':\n",
        "        return 24\n",
        "    if age_str == 'Более 65':\n",
        "        return 66\n",
        "    if age_str == '25-40':\n",
        "        return 32.5\n",
        "    if age_str == '40-65':\n",
        "        return 52.5"
      ],
      "metadata": {
        "id": "VcqFXlIIsDx0"
      },
      "execution_count": 8,
      "outputs": []
    },
    {
      "cell_type": "code",
      "source": [
        "df['MeanAge'] = df['Age'].apply(get_mean_age)"
      ],
      "metadata": {
        "id": "AlxVBCVSsCYs"
      },
      "execution_count": 9,
      "outputs": []
    },
    {
      "cell_type": "code",
      "source": [
        "df['MeanAge'].value_counts()"
      ],
      "metadata": {
        "colab": {
          "base_uri": "https://localhost:8080/"
        },
        "id": "_4A_gvmNsga7",
        "outputId": "0840140f-5bb2-47aa-8c13-2443d9c002bb"
      },
      "execution_count": 10,
      "outputs": [
        {
          "output_type": "execute_result",
          "data": {
            "text/plain": [
              "32.5    76\n",
              "52.5    56\n",
              "24.0    11\n",
              "66.0     2\n",
              "Name: MeanAge, dtype: int64"
            ]
          },
          "metadata": {},
          "execution_count": 10
        }
      ]
    },
    {
      "cell_type": "markdown",
      "source": [
        "### Mean age of survey - 40.04"
      ],
      "metadata": {
        "id": "tDPy-8h7xVcm"
      }
    },
    {
      "cell_type": "code",
      "source": [
        "df['MeanAge'].mean()"
      ],
      "metadata": {
        "colab": {
          "base_uri": "https://localhost:8080/"
        },
        "id": "YLFD2sprw3if",
        "outputId": "3093af52-83b9-45ea-fbfd-3f3a181f2fdf"
      },
      "execution_count": 11,
      "outputs": [
        {
          "output_type": "execute_result",
          "data": {
            "text/plain": [
              "40.04137931034483"
            ]
          },
          "metadata": {},
          "execution_count": 11
        }
      ]
    },
    {
      "cell_type": "code",
      "source": [
        "def convert_age_to_int(age_str):\n",
        "    if age_str == 'До 25':\n",
        "        return (None, 24)\n",
        "    if age_str == 'Более 65':\n",
        "        return (66, None)\n",
        "    bounds = age_str.split('-')\n",
        "    return (int(bounds[0]), int(bounds[1]))"
      ],
      "metadata": {
        "id": "-SWNiw3xde_b"
      },
      "execution_count": 13,
      "outputs": []
    },
    {
      "cell_type": "code",
      "source": [
        "df[['LowerAge', 'UpperAge']] = df['Age'].apply(convert_age_to_int).apply(pd.Series)"
      ],
      "metadata": {
        "id": "mmXjAt2eehfh"
      },
      "execution_count": 14,
      "outputs": []
    },
    {
      "cell_type": "code",
      "source": [
        "df['LiveTime'].value_counts()"
      ],
      "metadata": {
        "colab": {
          "base_uri": "https://localhost:8080/"
        },
        "id": "Cs7795Yfj8o0",
        "outputId": "a29c8eeb-cfa0-41d9-9215-139b23103837"
      },
      "execution_count": 15,
      "outputs": [
        {
          "output_type": "execute_result",
          "data": {
            "text/plain": [
              "С рождения          108\n",
              "Более 5 лет          21\n",
              "Жил, но уехал        11\n",
              "Менее 5 лет           3\n",
              "Я здесь временно      2\n",
              "Name: LiveTime, dtype: int64"
            ]
          },
          "metadata": {},
          "execution_count": 15
        }
      ]
    },
    {
      "cell_type": "code",
      "source": [
        "def map_livetime(value, default):\n",
        "    if value == 'С рождения':\n",
        "        return default\n",
        "    if value == 'Более 5 лет':\n",
        "        return 10\n",
        "    if value == 'Жил, но уехал':\n",
        "        return 1\n",
        "    if value == 'Менее 5 лет':\n",
        "        return 5\n",
        "    if value == 'Я здесь временно':\n",
        "        return 1"
      ],
      "metadata": {
        "id": "ZZ6GAMarmC9b"
      },
      "execution_count": 16,
      "outputs": []
    },
    {
      "cell_type": "code",
      "source": [
        "df.info()"
      ],
      "metadata": {
        "colab": {
          "base_uri": "https://localhost:8080/"
        },
        "id": "yISc3D8Ht9b7",
        "outputId": "4c561025-3f79-4d48-b443-40c6986137d5"
      },
      "execution_count": 17,
      "outputs": [
        {
          "output_type": "stream",
          "name": "stdout",
          "text": [
            "<class 'pandas.core.frame.DataFrame'>\n",
            "RangeIndex: 145 entries, 0 to 144\n",
            "Data columns (total 18 columns):\n",
            " #   Column                Non-Null Count  Dtype  \n",
            "---  ------                --------------  -----  \n",
            " 0   id                    145 non-null    int64  \n",
            " 1   SubmissionLikes       145 non-null    int64  \n",
            " 2   Category              145 non-null    object \n",
            " 3   Description           145 non-null    object \n",
            " 4   Participation         145 non-null    object \n",
            " 5   Money                 145 non-null    object \n",
            " 6   Age                   145 non-null    object \n",
            " 7   ContactName           145 non-null    object \n",
            " 8   LiveTime              145 non-null    object \n",
            " 9   FeatureType           145 non-null    object \n",
            " 10  GeometryType          145 non-null    object \n",
            " 11  CoordinatesLongitude  145 non-null    float64\n",
            " 12  CoordinatesLatitude   145 non-null    float64\n",
            " 13  CreatedAt             145 non-null    object \n",
            " 14  Gender                143 non-null    object \n",
            " 15  MeanAge               145 non-null    float64\n",
            " 16  LowerAge              134 non-null    float64\n",
            " 17  UpperAge              143 non-null    float64\n",
            "dtypes: float64(5), int64(2), object(11)\n",
            "memory usage: 20.5+ KB\n"
          ]
        }
      ]
    },
    {
      "cell_type": "code",
      "source": [
        "# df['LiveTimeInt'] = df['LiveTime'].apply(map_livetime)\n",
        "df['LiveTimeInt'] = df.apply(lambda row: map_livetime(row['LiveTime'], row['MeanAge']), axis=1)"
      ],
      "metadata": {
        "id": "aOGp8jjFmY28"
      },
      "execution_count": 18,
      "outputs": []
    },
    {
      "cell_type": "code",
      "source": [
        "df['LiveTimeInt'].value_counts()"
      ],
      "metadata": {
        "colab": {
          "base_uri": "https://localhost:8080/"
        },
        "id": "IZlt15sDmk84",
        "outputId": "3029abf8-f951-4a01-b8b9-53efe277b102"
      },
      "execution_count": 19,
      "outputs": [
        {
          "output_type": "execute_result",
          "data": {
            "text/plain": [
              "32.5    62\n",
              "52.5    36\n",
              "10.0    21\n",
              "1.0     13\n",
              "24.0     9\n",
              "5.0      3\n",
              "66.0     1\n",
              "Name: LiveTimeInt, dtype: int64"
            ]
          },
          "metadata": {},
          "execution_count": 19
        }
      ]
    },
    {
      "cell_type": "code",
      "source": [
        "def convert_participation_to_bool(value):\n",
        "    if value == \"Да\":\n",
        "        return True\n",
        "    return False"
      ],
      "metadata": {
        "id": "3xmiKrLTeKs3"
      },
      "execution_count": 20,
      "outputs": []
    },
    {
      "cell_type": "code",
      "source": [
        "df['Participation'] = df['Participation'].apply(convert_participation_to_bool)"
      ],
      "metadata": {
        "id": "RcKpHe_geSXY"
      },
      "execution_count": 21,
      "outputs": []
    },
    {
      "cell_type": "code",
      "source": [
        "df.head()"
      ],
      "metadata": {
        "colab": {
          "base_uri": "https://localhost:8080/",
          "height": 583
        },
        "id": "R4Zlc7cdgOiI",
        "outputId": "1ae3d56e-ae13-44a2-a0e5-3cd898b29107"
      },
      "execution_count": 22,
      "outputs": [
        {
          "output_type": "execute_result",
          "data": {
            "text/plain": [
              "   id  SubmissionLikes                                       Category  \\\n",
              "0   7               67  Общественные пространства, природа и экология   \n",
              "1   8               61  Общественные пространства, природа и экология   \n",
              "2   9              109                             Дороги и транспорт   \n",
              "3  10               44  Общественные пространства, природа и экология   \n",
              "4  11              185        Здоровье, образование, спорт и культура   \n",
              "\n",
              "                                         Description  Participation  \\\n",
              "0  Благоустроить Силинский лес: освещение, дорожк...          False   \n",
              "1                        Благоустроить Силинский лес          False   \n",
              "2  Здание автовокзала требует колоссальной реконс...          False   \n",
              "3  Ремонтируют парк очень плохо, страшно коляской...          False   \n",
              "4                     Реконструкция ДК Судостроитель          False   \n",
              "\n",
              "          Money    Age ContactName       LiveTime FeatureType GeometryType  \\\n",
              "0  Пока не знаю  40-65      Лариса     С рождения     Feature        Point   \n",
              "1  Пока не знаю  40-65      Лариса     С рождения     Feature        Point   \n",
              "2     Бюджетные  25-40        Олег    Более 5 лет     Feature        Point   \n",
              "3     Бюджетные  До 25      ОльгаЛ     С рождения     Feature        Point   \n",
              "4     Бюджетные  25-40  Александра  Жил, но уехал     Feature        Point   \n",
              "\n",
              "   CoordinatesLongitude  CoordinatesLatitude                 CreatedAt Gender  \\\n",
              "0              0.000000             0.000000  2023-03-06T09:38:48.587Z      f   \n",
              "1            137.041787            50.572570  2023-03-06T09:40:23.085Z      f   \n",
              "2            137.031797            50.533640  2023-03-06T09:54:31.566Z      m   \n",
              "3            137.026578            50.543906  2023-03-06T10:07:14.739Z   None   \n",
              "4            137.022575            50.542521  2023-03-15T07:08:22.533Z      f   \n",
              "\n",
              "   MeanAge  LowerAge  UpperAge  LiveTimeInt  \n",
              "0     52.5      40.0      65.0         52.5  \n",
              "1     52.5      40.0      65.0         52.5  \n",
              "2     32.5      25.0      40.0         10.0  \n",
              "3     24.0       NaN      24.0         24.0  \n",
              "4     32.5      25.0      40.0          1.0  "
            ],
            "text/html": [
              "\n",
              "  <div id=\"df-b5036730-3fd5-4abf-9cdb-aace8141381f\">\n",
              "    <div class=\"colab-df-container\">\n",
              "      <div>\n",
              "<style scoped>\n",
              "    .dataframe tbody tr th:only-of-type {\n",
              "        vertical-align: middle;\n",
              "    }\n",
              "\n",
              "    .dataframe tbody tr th {\n",
              "        vertical-align: top;\n",
              "    }\n",
              "\n",
              "    .dataframe thead th {\n",
              "        text-align: right;\n",
              "    }\n",
              "</style>\n",
              "<table border=\"1\" class=\"dataframe\">\n",
              "  <thead>\n",
              "    <tr style=\"text-align: right;\">\n",
              "      <th></th>\n",
              "      <th>id</th>\n",
              "      <th>SubmissionLikes</th>\n",
              "      <th>Category</th>\n",
              "      <th>Description</th>\n",
              "      <th>Participation</th>\n",
              "      <th>Money</th>\n",
              "      <th>Age</th>\n",
              "      <th>ContactName</th>\n",
              "      <th>LiveTime</th>\n",
              "      <th>FeatureType</th>\n",
              "      <th>GeometryType</th>\n",
              "      <th>CoordinatesLongitude</th>\n",
              "      <th>CoordinatesLatitude</th>\n",
              "      <th>CreatedAt</th>\n",
              "      <th>Gender</th>\n",
              "      <th>MeanAge</th>\n",
              "      <th>LowerAge</th>\n",
              "      <th>UpperAge</th>\n",
              "      <th>LiveTimeInt</th>\n",
              "    </tr>\n",
              "  </thead>\n",
              "  <tbody>\n",
              "    <tr>\n",
              "      <th>0</th>\n",
              "      <td>7</td>\n",
              "      <td>67</td>\n",
              "      <td>Общественные пространства, природа и экология</td>\n",
              "      <td>Благоустроить Силинский лес: освещение, дорожк...</td>\n",
              "      <td>False</td>\n",
              "      <td>Пока не знаю</td>\n",
              "      <td>40-65</td>\n",
              "      <td>Лариса</td>\n",
              "      <td>С рождения</td>\n",
              "      <td>Feature</td>\n",
              "      <td>Point</td>\n",
              "      <td>0.000000</td>\n",
              "      <td>0.000000</td>\n",
              "      <td>2023-03-06T09:38:48.587Z</td>\n",
              "      <td>f</td>\n",
              "      <td>52.5</td>\n",
              "      <td>40.0</td>\n",
              "      <td>65.0</td>\n",
              "      <td>52.5</td>\n",
              "    </tr>\n",
              "    <tr>\n",
              "      <th>1</th>\n",
              "      <td>8</td>\n",
              "      <td>61</td>\n",
              "      <td>Общественные пространства, природа и экология</td>\n",
              "      <td>Благоустроить Силинский лес</td>\n",
              "      <td>False</td>\n",
              "      <td>Пока не знаю</td>\n",
              "      <td>40-65</td>\n",
              "      <td>Лариса</td>\n",
              "      <td>С рождения</td>\n",
              "      <td>Feature</td>\n",
              "      <td>Point</td>\n",
              "      <td>137.041787</td>\n",
              "      <td>50.572570</td>\n",
              "      <td>2023-03-06T09:40:23.085Z</td>\n",
              "      <td>f</td>\n",
              "      <td>52.5</td>\n",
              "      <td>40.0</td>\n",
              "      <td>65.0</td>\n",
              "      <td>52.5</td>\n",
              "    </tr>\n",
              "    <tr>\n",
              "      <th>2</th>\n",
              "      <td>9</td>\n",
              "      <td>109</td>\n",
              "      <td>Дороги и транспорт</td>\n",
              "      <td>Здание автовокзала требует колоссальной реконс...</td>\n",
              "      <td>False</td>\n",
              "      <td>Бюджетные</td>\n",
              "      <td>25-40</td>\n",
              "      <td>Олег</td>\n",
              "      <td>Более 5 лет</td>\n",
              "      <td>Feature</td>\n",
              "      <td>Point</td>\n",
              "      <td>137.031797</td>\n",
              "      <td>50.533640</td>\n",
              "      <td>2023-03-06T09:54:31.566Z</td>\n",
              "      <td>m</td>\n",
              "      <td>32.5</td>\n",
              "      <td>25.0</td>\n",
              "      <td>40.0</td>\n",
              "      <td>10.0</td>\n",
              "    </tr>\n",
              "    <tr>\n",
              "      <th>3</th>\n",
              "      <td>10</td>\n",
              "      <td>44</td>\n",
              "      <td>Общественные пространства, природа и экология</td>\n",
              "      <td>Ремонтируют парк очень плохо, страшно коляской...</td>\n",
              "      <td>False</td>\n",
              "      <td>Бюджетные</td>\n",
              "      <td>До 25</td>\n",
              "      <td>ОльгаЛ</td>\n",
              "      <td>С рождения</td>\n",
              "      <td>Feature</td>\n",
              "      <td>Point</td>\n",
              "      <td>137.026578</td>\n",
              "      <td>50.543906</td>\n",
              "      <td>2023-03-06T10:07:14.739Z</td>\n",
              "      <td>None</td>\n",
              "      <td>24.0</td>\n",
              "      <td>NaN</td>\n",
              "      <td>24.0</td>\n",
              "      <td>24.0</td>\n",
              "    </tr>\n",
              "    <tr>\n",
              "      <th>4</th>\n",
              "      <td>11</td>\n",
              "      <td>185</td>\n",
              "      <td>Здоровье, образование, спорт и культура</td>\n",
              "      <td>Реконструкция ДК Судостроитель</td>\n",
              "      <td>False</td>\n",
              "      <td>Бюджетные</td>\n",
              "      <td>25-40</td>\n",
              "      <td>Александра</td>\n",
              "      <td>Жил, но уехал</td>\n",
              "      <td>Feature</td>\n",
              "      <td>Point</td>\n",
              "      <td>137.022575</td>\n",
              "      <td>50.542521</td>\n",
              "      <td>2023-03-15T07:08:22.533Z</td>\n",
              "      <td>f</td>\n",
              "      <td>32.5</td>\n",
              "      <td>25.0</td>\n",
              "      <td>40.0</td>\n",
              "      <td>1.0</td>\n",
              "    </tr>\n",
              "  </tbody>\n",
              "</table>\n",
              "</div>\n",
              "      <button class=\"colab-df-convert\" onclick=\"convertToInteractive('df-b5036730-3fd5-4abf-9cdb-aace8141381f')\"\n",
              "              title=\"Convert this dataframe to an interactive table.\"\n",
              "              style=\"display:none;\">\n",
              "        \n",
              "  <svg xmlns=\"http://www.w3.org/2000/svg\" height=\"24px\"viewBox=\"0 0 24 24\"\n",
              "       width=\"24px\">\n",
              "    <path d=\"M0 0h24v24H0V0z\" fill=\"none\"/>\n",
              "    <path d=\"M18.56 5.44l.94 2.06.94-2.06 2.06-.94-2.06-.94-.94-2.06-.94 2.06-2.06.94zm-11 1L8.5 8.5l.94-2.06 2.06-.94-2.06-.94L8.5 2.5l-.94 2.06-2.06.94zm10 10l.94 2.06.94-2.06 2.06-.94-2.06-.94-.94-2.06-.94 2.06-2.06.94z\"/><path d=\"M17.41 7.96l-1.37-1.37c-.4-.4-.92-.59-1.43-.59-.52 0-1.04.2-1.43.59L10.3 9.45l-7.72 7.72c-.78.78-.78 2.05 0 2.83L4 21.41c.39.39.9.59 1.41.59.51 0 1.02-.2 1.41-.59l7.78-7.78 2.81-2.81c.8-.78.8-2.07 0-2.86zM5.41 20L4 18.59l7.72-7.72 1.47 1.35L5.41 20z\"/>\n",
              "  </svg>\n",
              "      </button>\n",
              "      \n",
              "  <style>\n",
              "    .colab-df-container {\n",
              "      display:flex;\n",
              "      flex-wrap:wrap;\n",
              "      gap: 12px;\n",
              "    }\n",
              "\n",
              "    .colab-df-convert {\n",
              "      background-color: #E8F0FE;\n",
              "      border: none;\n",
              "      border-radius: 50%;\n",
              "      cursor: pointer;\n",
              "      display: none;\n",
              "      fill: #1967D2;\n",
              "      height: 32px;\n",
              "      padding: 0 0 0 0;\n",
              "      width: 32px;\n",
              "    }\n",
              "\n",
              "    .colab-df-convert:hover {\n",
              "      background-color: #E2EBFA;\n",
              "      box-shadow: 0px 1px 2px rgba(60, 64, 67, 0.3), 0px 1px 3px 1px rgba(60, 64, 67, 0.15);\n",
              "      fill: #174EA6;\n",
              "    }\n",
              "\n",
              "    [theme=dark] .colab-df-convert {\n",
              "      background-color: #3B4455;\n",
              "      fill: #D2E3FC;\n",
              "    }\n",
              "\n",
              "    [theme=dark] .colab-df-convert:hover {\n",
              "      background-color: #434B5C;\n",
              "      box-shadow: 0px 1px 3px 1px rgba(0, 0, 0, 0.15);\n",
              "      filter: drop-shadow(0px 1px 2px rgba(0, 0, 0, 0.3));\n",
              "      fill: #FFFFFF;\n",
              "    }\n",
              "  </style>\n",
              "\n",
              "      <script>\n",
              "        const buttonEl =\n",
              "          document.querySelector('#df-b5036730-3fd5-4abf-9cdb-aace8141381f button.colab-df-convert');\n",
              "        buttonEl.style.display =\n",
              "          google.colab.kernel.accessAllowed ? 'block' : 'none';\n",
              "\n",
              "        async function convertToInteractive(key) {\n",
              "          const element = document.querySelector('#df-b5036730-3fd5-4abf-9cdb-aace8141381f');\n",
              "          const dataTable =\n",
              "            await google.colab.kernel.invokeFunction('convertToInteractive',\n",
              "                                                     [key], {});\n",
              "          if (!dataTable) return;\n",
              "\n",
              "          const docLinkHtml = 'Like what you see? Visit the ' +\n",
              "            '<a target=\"_blank\" href=https://colab.research.google.com/notebooks/data_table.ipynb>data table notebook</a>'\n",
              "            + ' to learn more about interactive tables.';\n",
              "          element.innerHTML = '';\n",
              "          dataTable['output_type'] = 'display_data';\n",
              "          await google.colab.output.renderOutput(dataTable, element);\n",
              "          const docLink = document.createElement('div');\n",
              "          docLink.innerHTML = docLinkHtml;\n",
              "          element.appendChild(docLink);\n",
              "        }\n",
              "      </script>\n",
              "    </div>\n",
              "  </div>\n",
              "  "
            ]
          },
          "metadata": {},
          "execution_count": 22
        }
      ]
    },
    {
      "cell_type": "markdown",
      "source": [
        "### check if data was not lost"
      ],
      "metadata": {
        "id": "tHMCVSaXgSbg"
      }
    },
    {
      "cell_type": "code",
      "source": [
        "df.shape"
      ],
      "metadata": {
        "colab": {
          "base_uri": "https://localhost:8080/"
        },
        "id": "KwLjzrgKGIl3",
        "outputId": "7a5178af-9a3b-4a12-e3d6-f9d89fb6cd3d"
      },
      "execution_count": 23,
      "outputs": [
        {
          "output_type": "execute_result",
          "data": {
            "text/plain": [
              "(145, 19)"
            ]
          },
          "metadata": {},
          "execution_count": 23
        }
      ]
    },
    {
      "cell_type": "code",
      "source": [
        "!pip install transformers"
      ],
      "metadata": {
        "colab": {
          "base_uri": "https://localhost:8080/"
        },
        "id": "ukibRiLIiTsb",
        "outputId": "e0d0a80d-07df-48e9-a326-09efe861dcf6"
      },
      "execution_count": 24,
      "outputs": [
        {
          "output_type": "stream",
          "name": "stdout",
          "text": [
            "Looking in indexes: https://pypi.org/simple, https://us-python.pkg.dev/colab-wheels/public/simple/\n",
            "Collecting transformers\n",
            "  Downloading transformers-4.28.1-py3-none-any.whl (7.0 MB)\n",
            "\u001b[2K     \u001b[90m━━━━━━━━━━━━━━━━━━━━━━━━━━━━━━━━━━━━━━━━\u001b[0m \u001b[32m7.0/7.0 MB\u001b[0m \u001b[31m54.1 MB/s\u001b[0m eta \u001b[36m0:00:00\u001b[0m\n",
            "\u001b[?25hRequirement already satisfied: regex!=2019.12.17 in /usr/local/lib/python3.9/dist-packages (from transformers) (2022.10.31)\n",
            "Requirement already satisfied: tqdm>=4.27 in /usr/local/lib/python3.9/dist-packages (from transformers) (4.65.0)\n",
            "Collecting huggingface-hub<1.0,>=0.11.0\n",
            "  Downloading huggingface_hub-0.13.4-py3-none-any.whl (200 kB)\n",
            "\u001b[2K     \u001b[90m━━━━━━━━━━━━━━━━━━━━━━━━━━━━━━━━━━━━━━\u001b[0m \u001b[32m200.1/200.1 kB\u001b[0m \u001b[31m25.3 MB/s\u001b[0m eta \u001b[36m0:00:00\u001b[0m\n",
            "\u001b[?25hRequirement already satisfied: packaging>=20.0 in /usr/local/lib/python3.9/dist-packages (from transformers) (23.1)\n",
            "Requirement already satisfied: numpy>=1.17 in /usr/local/lib/python3.9/dist-packages (from transformers) (1.22.4)\n",
            "Requirement already satisfied: filelock in /usr/local/lib/python3.9/dist-packages (from transformers) (3.11.0)\n",
            "Requirement already satisfied: pyyaml>=5.1 in /usr/local/lib/python3.9/dist-packages (from transformers) (6.0)\n",
            "Requirement already satisfied: requests in /usr/local/lib/python3.9/dist-packages (from transformers) (2.27.1)\n",
            "Collecting tokenizers!=0.11.3,<0.14,>=0.11.1\n",
            "  Downloading tokenizers-0.13.3-cp39-cp39-manylinux_2_17_x86_64.manylinux2014_x86_64.whl (7.8 MB)\n",
            "\u001b[2K     \u001b[90m━━━━━━━━━━━━━━━━━━━━━━━━━━━━━━━━━━━━━━━━\u001b[0m \u001b[32m7.8/7.8 MB\u001b[0m \u001b[31m108.0 MB/s\u001b[0m eta \u001b[36m0:00:00\u001b[0m\n",
            "\u001b[?25hRequirement already satisfied: typing-extensions>=3.7.4.3 in /usr/local/lib/python3.9/dist-packages (from huggingface-hub<1.0,>=0.11.0->transformers) (4.5.0)\n",
            "Requirement already satisfied: certifi>=2017.4.17 in /usr/local/lib/python3.9/dist-packages (from requests->transformers) (2022.12.7)\n",
            "Requirement already satisfied: urllib3<1.27,>=1.21.1 in /usr/local/lib/python3.9/dist-packages (from requests->transformers) (1.26.15)\n",
            "Requirement already satisfied: charset-normalizer~=2.0.0 in /usr/local/lib/python3.9/dist-packages (from requests->transformers) (2.0.12)\n",
            "Requirement already satisfied: idna<4,>=2.5 in /usr/local/lib/python3.9/dist-packages (from requests->transformers) (3.4)\n",
            "Installing collected packages: tokenizers, huggingface-hub, transformers\n",
            "Successfully installed huggingface-hub-0.13.4 tokenizers-0.13.3 transformers-4.28.1\n"
          ]
        }
      ]
    },
    {
      "cell_type": "code",
      "source": [
        "import nltk\n",
        "from transformers import pipeline\n",
        "\n",
        "# Download the necessary NLTK packages\n",
        "nltk.download('punkt')\n",
        "nltk.download('stopwords')\n",
        "\n",
        "# Load the pre-trained sentiment analysis model\n",
        "MODEL = pipeline('sentiment-analysis', model='nlptown/bert-base-multilingual-uncased-sentiment')\n",
        "\n",
        "# Analyze a Russian comment\n",
        "# comment = \"Замечательный фильм! Очень трогательный и увлекательный!\"\n",
        "# result = model(comment)[0]\n",
        "# print(f\"Comment: {comment}\\nSentiment: {result['label']} ({result['score']})\")"
      ],
      "metadata": {
        "colab": {
          "base_uri": "https://localhost:8080/",
          "height": 246,
          "referenced_widgets": [
            "9fa6451088c8429185b5bae13e004788",
            "aa703df5877845f2ad87def57e3b1084",
            "0e76b7acbabd479baac66e7f40102290",
            "259906338f9644b1bbd3c791509eae0d",
            "a8ff4a1a4fd04e92a6850f1a54276e0f",
            "664cf7e2bc294c67ad2cd5e46dfb12de",
            "e2f17905d6aa452f870ab9e29c683fc9",
            "759baf1dfeb84ab0b99d47e58b2ceb23",
            "6b3ae9aecc684ec68d1610c4d6266dea",
            "0760c8ec608443048283020110a08401",
            "237bb768578447f28a6a7e78467b4750",
            "924091967f064c1f93b82dfcb6d029aa",
            "b4c8df57afc847709eb87ae29baa7cf1",
            "6bf1d2d2057341b0944adc4ada83828a",
            "c0977ca5be18437f81b85304f21c80cd",
            "55a354dad8a84b688e360f64a50e0116",
            "854e3a98e8064363932f15c6007a73ff",
            "8371b6e0ce1148f794eed7b68553f963",
            "08758a699c84472aaf1b0dba67c148a4",
            "c924c1ee622c4a00806c79b4e97e12b6",
            "6ab0a48dcedd45efbea3b83bdc59951d",
            "5bb83a2064664fbc9377ad7399346706",
            "f45bb24ddb1f4e16ac9a24a818320947",
            "90936ae0e4e64be4adf307bb766f54f4",
            "f335ea565c424e989e74019949a71e91",
            "d63a838170664d5ebbb5be37144047e8",
            "e81dec0e1a48456e9de362638a0586e9",
            "2486dca9ed3d4980a7ec3afd89a597cc",
            "84ee2bc53c79446d985e98cbd2ab6331",
            "a809d0dcb8ca48b99e38de9a6fecae23",
            "37691476b5924f4098d70dbdf2d000ed",
            "ecf699317e704e0f906a18e5752c78be",
            "82b7c81a5127463f948419269ed5a45d",
            "5daa6aa3b4cc447fb224374489f54c85",
            "0ae5712134d244a1a5eae0d41c17f8df",
            "c38ae1c28878424da786db594d9bb792",
            "888e08c4b17d407bb383cbe763d98760",
            "3ec0a0026a12432a87298ec7dd1fa561",
            "7767b936198f4aed93202e2f0af04140",
            "7851076711464ea0bdd949470f992a83",
            "18c9fb295beb458fb5c30de9a0b1a290",
            "3dfc548180934d0299ce006eb1140178",
            "7db48c9286b84c99a073dbcc292b8b18",
            "03cf6aa9b7904c77bb00f20b1a479086",
            "afc52f34b0134df19f61dec2a7b2de57",
            "c9af778f77624d0ca148cef18be2608e",
            "5810f9659b2c48638e61ed06260f6788",
            "b8e89c2ff972464b9eb408c0b37f3e34",
            "cef79f3e6d5c43db91c9cbf9e5e112ce",
            "9bd41bd5b58147fe90e073bf6e647ffd",
            "1c4734ad774f491586de982d0e313fdb",
            "6457935ae4534308b80d5f1cdf065831",
            "43a2b1356b6b451db3bbbbc9a2784522",
            "d335456f7eeb441b919e6499ccf79dd9",
            "c2e5861bfa944876abb2394b636453e5"
          ]
        },
        "id": "UurniurIfz9u",
        "outputId": "92af3803-eef6-4262-a82a-1208bb7beadd"
      },
      "execution_count": 25,
      "outputs": [
        {
          "output_type": "stream",
          "name": "stderr",
          "text": [
            "[nltk_data] Downloading package punkt to /root/nltk_data...\n",
            "[nltk_data]   Unzipping tokenizers/punkt.zip.\n",
            "[nltk_data] Downloading package stopwords to /root/nltk_data...\n",
            "[nltk_data]   Unzipping corpora/stopwords.zip.\n"
          ]
        },
        {
          "output_type": "display_data",
          "data": {
            "text/plain": [
              "Downloading (…)lve/main/config.json:   0%|          | 0.00/953 [00:00<?, ?B/s]"
            ],
            "application/vnd.jupyter.widget-view+json": {
              "version_major": 2,
              "version_minor": 0,
              "model_id": "9fa6451088c8429185b5bae13e004788"
            }
          },
          "metadata": {}
        },
        {
          "output_type": "display_data",
          "data": {
            "text/plain": [
              "Downloading pytorch_model.bin:   0%|          | 0.00/669M [00:00<?, ?B/s]"
            ],
            "application/vnd.jupyter.widget-view+json": {
              "version_major": 2,
              "version_minor": 0,
              "model_id": "924091967f064c1f93b82dfcb6d029aa"
            }
          },
          "metadata": {}
        },
        {
          "output_type": "display_data",
          "data": {
            "text/plain": [
              "Downloading (…)okenizer_config.json:   0%|          | 0.00/39.0 [00:00<?, ?B/s]"
            ],
            "application/vnd.jupyter.widget-view+json": {
              "version_major": 2,
              "version_minor": 0,
              "model_id": "f45bb24ddb1f4e16ac9a24a818320947"
            }
          },
          "metadata": {}
        },
        {
          "output_type": "display_data",
          "data": {
            "text/plain": [
              "Downloading (…)solve/main/vocab.txt:   0%|          | 0.00/872k [00:00<?, ?B/s]"
            ],
            "application/vnd.jupyter.widget-view+json": {
              "version_major": 2,
              "version_minor": 0,
              "model_id": "5daa6aa3b4cc447fb224374489f54c85"
            }
          },
          "metadata": {}
        },
        {
          "output_type": "display_data",
          "data": {
            "text/plain": [
              "Downloading (…)cial_tokens_map.json:   0%|          | 0.00/112 [00:00<?, ?B/s]"
            ],
            "application/vnd.jupyter.widget-view+json": {
              "version_major": 2,
              "version_minor": 0,
              "model_id": "afc52f34b0134df19f61dec2a7b2de57"
            }
          },
          "metadata": {}
        }
      ]
    },
    {
      "cell_type": "code",
      "source": [
        "def calculate_happy(input):\n",
        "    try:\n",
        "        result = MODEL(input)[0]\n",
        "    except Exception as e:\n",
        "        # just put average if something goes wrong\n",
        "        return 3\n",
        "    return int(result['label'].split(' ')[0])"
      ],
      "metadata": {
        "id": "9Q7LxBcrWmkK"
      },
      "execution_count": 26,
      "outputs": []
    },
    {
      "cell_type": "code",
      "source": [
        "df['Happy'] = df['Description'].apply(calculate_happy)"
      ],
      "metadata": {
        "id": "pImGE2Orn2EE",
        "colab": {
          "base_uri": "https://localhost:8080/"
        },
        "outputId": "deec8455-4f7a-4caa-9550-eea96d9c8822"
      },
      "execution_count": 27,
      "outputs": [
        {
          "output_type": "stream",
          "name": "stderr",
          "text": [
            "Token indices sequence length is longer than the specified maximum sequence length for this model (634 > 512). Running this sequence through the model will result in indexing errors\n"
          ]
        }
      ]
    },
    {
      "cell_type": "code",
      "source": [
        "import seaborn as sns"
      ],
      "metadata": {
        "id": "tvG5JkIiphcg"
      },
      "execution_count": 29,
      "outputs": []
    },
    {
      "cell_type": "markdown",
      "source": [
        "## How happy are the people in counts"
      ],
      "metadata": {
        "id": "ExCLbXMjsNKj"
      }
    },
    {
      "cell_type": "code",
      "source": [
        "plt.figure(figsize=(12, 8))\n",
        "\n",
        "ax = sns.countplot(x=df['Happy'])\n",
        "\n",
        "for p in ax.patches:\n",
        "    ax.annotate(str(p.get_height()), (p.get_x() + p.get_width() / 2., p.get_height()),\n",
        "                ha='center', va='center', fontsize=11, color='black', xytext=(0, 5), textcoords='offset points')\n",
        "\n",
        "plt.show()"
      ],
      "metadata": {
        "colab": {
          "base_uri": "https://localhost:8080/",
          "height": 671
        },
        "id": "BNUOR3__pnji",
        "outputId": "306de8b8-502b-4176-d625-05386979df31"
      },
      "execution_count": 56,
      "outputs": [
        {
          "output_type": "display_data",
          "data": {
            "text/plain": [
              "<Figure size 1200x800 with 1 Axes>"
            ],
            "image/png": "[encoded data removed]"
          },
          "metadata": {}
        }
      ]
    },
    {
      "cell_type": "markdown",
      "source": [
        "## How happy are the people in percentages"
      ],
      "metadata": {
        "id": "TS26RdNEsKer"
      }
    },
    {
      "cell_type": "code",
      "source": [
        "percentile_happy_str = df.Happy.value_counts(normalize=True).mul(100).round(1).astype(str)+'%'\n",
        "percentile_happy_int = df.Happy.value_counts(normalize=True).mul(100).round(1).astype(int)\n",
        "display(percentile_happy_str)"
      ],
      "metadata": {
        "colab": {
          "base_uri": "https://localhost:8080/",
          "height": 121
        },
        "id": "A94iesEdrWoy",
        "outputId": "0682f4d1-5f9e-4034-f892-cf4f67bef8cf"
      },
      "execution_count": 42,
      "outputs": [
        {
          "output_type": "display_data",
          "data": {
            "text/plain": [
              "5    34.5%\n",
              "4    33.8%\n",
              "1    15.9%\n",
              "2    11.7%\n",
              "3     4.1%\n",
              "Name: Happy, dtype: object"
            ]
          },
          "metadata": {}
        }
      ]
    },
    {
      "cell_type": "code",
      "source": [
        "plt.figure(figsize=(15, 9))\n",
        "percentile_happy_int.plot(kind='pie', autopct='%1.1f%%')\n",
        "plt.show()"
      ],
      "metadata": {
        "colab": {
          "base_uri": "https://localhost:8080/",
          "height": 730
        },
        "id": "Wt2t6b08srKU",
        "outputId": "d4c26abf-c6cb-4ae1-d858-68d4efd71f2b"
      },
      "execution_count": 43,
      "outputs": [
        {
          "output_type": "display_data",
          "data": {
            "text/plain": [
              "<Figure size 1500x900 with 1 Axes>"
            ],
            "image/png": "[encoded data removed]"
          },
          "metadata": {}
        }
      ]
    },
    {
      "cell_type": "markdown",
      "source": [
        "# **Satisfaction percentage is 71.86%**"
      ],
      "metadata": {
        "id": "uirBgwDTqZr3"
      }
    },
    {
      "cell_type": "code",
      "source": [
        "# average satisfaction of the people is 3.59 about/proportional that is 71.8%\n",
        "df['Happy'].mean() * 20"
      ],
      "metadata": {
        "colab": {
          "base_uri": "https://localhost:8080/"
        },
        "id": "zcIyow6Gpizu",
        "outputId": "f657d3ef-507e-470b-8bcc-99ab063b283f"
      },
      "execution_count": 44,
      "outputs": [
        {
          "output_type": "execute_result",
          "data": {
            "text/plain": [
              "71.86206896551724"
            ]
          },
          "metadata": {},
          "execution_count": 44
        }
      ]
    },
    {
      "cell_type": "markdown",
      "source": [
        "## Category *analysis*"
      ],
      "metadata": {
        "id": "wWxwKRsl1ZT5"
      }
    },
    {
      "cell_type": "code",
      "source": [
        "df['Category'].value_counts().sort_values(ascending=False)"
      ],
      "metadata": {
        "colab": {
          "base_uri": "https://localhost:8080/"
        },
        "id": "MNvr0cxuvDN6",
        "outputId": "b600a485-5c14-48f2-afca-a222aa20bca1"
      },
      "execution_count": 45,
      "outputs": [
        {
          "output_type": "execute_result",
          "data": {
            "text/plain": [
              "Общественные пространства, природа и экология    45\n",
              "Дороги и транспорт                               34\n",
              "Здоровье, образование, спорт и культура          26\n",
              "Жилые дома и дворы                               19\n",
              "Другое                                           16\n",
              "Производство, торговля и услуги                   3\n",
              "Инженерные системы города                         2\n",
              "Name: Category, dtype: int64"
            ]
          },
          "metadata": {},
          "execution_count": 45
        }
      ]
    },
    {
      "cell_type": "code",
      "source": [
        "plt.figure(figsize=(12,8))\n",
        "ax = sns.countplot(y=\"Category\", data=df)\n",
        "for p in ax.patches:\n",
        "    ax.annotate(\n",
        "        format(p.get_width(), '.0f'),\n",
        "        (p.get_width() + 1, p.get_y() + p.get_height() / 1.5),\n",
        "        ha = 'center',\n",
        "        va = 'center',\n",
        "        xytext = (0, 10),\n",
        "        textcoords = 'offset points'\n",
        "    )\n",
        "plt.show()"
      ],
      "metadata": {
        "colab": {
          "base_uri": "https://localhost:8080/",
          "height": 488
        },
        "id": "_OcTfgX_vt0E",
        "outputId": "d1114673-20b2-4c37-ccc7-44e5a869b4a4"
      },
      "execution_count": 46,
      "outputs": [
        {
          "output_type": "display_data",
          "data": {
            "text/plain": [
              "<Figure size 1200x800 with 1 Axes>"
            ],
            "image/png": "[encoded data removed]"
          },
          "metadata": {}
        }
      ]
    },
    {
      "cell_type": "code",
      "source": [
        "percentile_category_str = df.Category.value_counts(normalize=True).mul(100).round(1).astype(str)+'%'\n",
        "percentile_category_int = df.Category.value_counts(normalize=True).mul(100).round(1).astype(int)\n",
        "display(percentile_category_str)"
      ],
      "metadata": {
        "colab": {
          "base_uri": "https://localhost:8080/",
          "height": 156
        },
        "id": "vV_zDHLf081e",
        "outputId": "b7d04728-70ba-4ab5-9c56-bb06962b2b8e"
      },
      "execution_count": 47,
      "outputs": [
        {
          "output_type": "display_data",
          "data": {
            "text/plain": [
              "Общественные пространства, природа и экология    31.0%\n",
              "Дороги и транспорт                               23.4%\n",
              "Здоровье, образование, спорт и культура          17.9%\n",
              "Жилые дома и дворы                               13.1%\n",
              "Другое                                           11.0%\n",
              "Производство, торговля и услуги                   2.1%\n",
              "Инженерные системы города                         1.4%\n",
              "Name: Category, dtype: object"
            ]
          },
          "metadata": {}
        }
      ]
    },
    {
      "cell_type": "code",
      "source": [
        "plt.figure(figsize=(15, 9))\n",
        "percentile_category_int.plot(kind='pie', autopct='%1.1f%%')\n",
        "plt.show()"
      ],
      "metadata": {
        "colab": {
          "base_uri": "https://localhost:8080/",
          "height": 620
        },
        "id": "F5YPlh-O1vVs",
        "outputId": "040b5c4a-d733-449c-f267-70bd3fdad43b"
      },
      "execution_count": 48,
      "outputs": [
        {
          "output_type": "display_data",
          "data": {
            "text/plain": [
              "<Figure size 1500x900 with 1 Axes>"
            ],
            "image/png": "[encoded data removed]"
          },
          "metadata": {}
        }
      ]
    },
    {
      "cell_type": "markdown",
      "source": [
        "### 10 Most relevant comments"
      ],
      "metadata": {
        "id": "bC6obA0517cZ"
      }
    },
    {
      "cell_type": "code",
      "source": [
        "ten_most_popular = df.nlargest(10, 'SubmissionLikes')"
      ],
      "metadata": {
        "id": "DUgBBCoP34R4"
      },
      "execution_count": 49,
      "outputs": []
    },
    {
      "cell_type": "code",
      "source": [
        "ten_most_popular.info()"
      ],
      "metadata": {
        "colab": {
          "base_uri": "https://localhost:8080/"
        },
        "id": "XKd4HoWs6yFe",
        "outputId": "56551f46-541c-4099-f158-95b3e976fdd2"
      },
      "execution_count": 50,
      "outputs": [
        {
          "output_type": "stream",
          "name": "stdout",
          "text": [
            "<class 'pandas.core.frame.DataFrame'>\n",
            "Int64Index: 10 entries, 4 to 8\n",
            "Data columns (total 20 columns):\n",
            " #   Column                Non-Null Count  Dtype  \n",
            "---  ------                --------------  -----  \n",
            " 0   id                    10 non-null     int64  \n",
            " 1   SubmissionLikes       10 non-null     int64  \n",
            " 2   Category              10 non-null     object \n",
            " 3   Description           10 non-null     object \n",
            " 4   Participation         10 non-null     bool   \n",
            " 5   Money                 10 non-null     object \n",
            " 6   Age                   10 non-null     object \n",
            " 7   ContactName           10 non-null     object \n",
            " 8   LiveTime              10 non-null     object \n",
            " 9   FeatureType           10 non-null     object \n",
            " 10  GeometryType          10 non-null     object \n",
            " 11  CoordinatesLongitude  10 non-null     float64\n",
            " 12  CoordinatesLatitude   10 non-null     float64\n",
            " 13  CreatedAt             10 non-null     object \n",
            " 14  Gender                10 non-null     object \n",
            " 15  MeanAge               10 non-null     float64\n",
            " 16  LowerAge              9 non-null      float64\n",
            " 17  UpperAge              10 non-null     float64\n",
            " 18  LiveTimeInt           10 non-null     float64\n",
            " 19  Happy                 10 non-null     int64  \n",
            "dtypes: bool(1), float64(6), int64(3), object(10)\n",
            "memory usage: 1.6+ KB\n"
          ]
        }
      ]
    },
    {
      "cell_type": "code",
      "source": [
        "display(ten_most_popular[['Description', 'SubmissionLikes', 'Category', 'Money', 'Happy']])"
      ],
      "metadata": {
        "colab": {
          "base_uri": "https://localhost:8080/",
          "height": 546
        },
        "id": "-OiM4dQz6Fyh",
        "outputId": "948908f0-29d5-46fd-eae3-b606e946bd27"
      },
      "execution_count": 51,
      "outputs": [
        {
          "output_type": "display_data",
          "data": {
            "text/plain": [
              "                                          Description  SubmissionLikes  \\\n",
              "4                      Реконструкция ДК Судостроитель              185   \n",
              "17  Предлагаем в ваш проект включить автоспортивны...              166   \n",
              "7   Восстановить нормальную работу Комсомольского ...              152   \n",
              "9   Учитывая,  что у нас в городе с очисткой дорог...              137   \n",
              "36  Я хочу и даже требую, чтобы наш город \"Президе...              131   \n",
              "6   Возрождение муниципального транспорта-автобусы...              123   \n",
              "5    привести в современное состояние парки города...              116   \n",
              "2   Здание автовокзала требует колоссальной реконс...              109   \n",
              "20  Штрафовать за выгул собак по всему городу, вес...              108   \n",
              "8   Предлагаю провести реконструкцию одной из глав...              101   \n",
              "\n",
              "                                         Category         Money  Happy  \n",
              "4         Здоровье, образование, спорт и культура     Бюджетные      5  \n",
              "17        Здоровье, образование, спорт и культура       Частные      4  \n",
              "7                              Дороги и транспорт     Бюджетные      5  \n",
              "9                              Дороги и транспорт     Бюджетные      2  \n",
              "36        Здоровье, образование, спорт и культура     Бюджетные      2  \n",
              "6                              Дороги и транспорт     Бюджетные      5  \n",
              "5   Общественные пространства, природа и экология  Пока не знаю      5  \n",
              "2                              Дороги и транспорт     Бюджетные      4  \n",
              "20  Общественные пространства, природа и экология     Бюджетные      1  \n",
              "8         Здоровье, образование, спорт и культура     Бюджетные      2  "
            ],
            "text/html": [
              "\n",
              "  <div id=\"df-f669bc6d-67b1-4921-bea0-b985baddcb61\">\n",
              "    <div class=\"colab-df-container\">\n",
              "      <div>\n",
              "<style scoped>\n",
              "    .dataframe tbody tr th:only-of-type {\n",
              "        vertical-align: middle;\n",
              "    }\n",
              "\n",
              "    .dataframe tbody tr th {\n",
              "        vertical-align: top;\n",
              "    }\n",
              "\n",
              "    .dataframe thead th {\n",
              "        text-align: right;\n",
              "    }\n",
              "</style>\n",
              "<table border=\"1\" class=\"dataframe\">\n",
              "  <thead>\n",
              "    <tr style=\"text-align: right;\">\n",
              "      <th></th>\n",
              "      <th>Description</th>\n",
              "      <th>SubmissionLikes</th>\n",
              "      <th>Category</th>\n",
              "      <th>Money</th>\n",
              "      <th>Happy</th>\n",
              "    </tr>\n",
              "  </thead>\n",
              "  <tbody>\n",
              "    <tr>\n",
              "      <th>4</th>\n",
              "      <td>Реконструкция ДК Судостроитель</td>\n",
              "      <td>185</td>\n",
              "      <td>Здоровье, образование, спорт и культура</td>\n",
              "      <td>Бюджетные</td>\n",
              "      <td>5</td>\n",
              "    </tr>\n",
              "    <tr>\n",
              "      <th>17</th>\n",
              "      <td>Предлагаем в ваш проект включить автоспортивны...</td>\n",
              "      <td>166</td>\n",
              "      <td>Здоровье, образование, спорт и культура</td>\n",
              "      <td>Частные</td>\n",
              "      <td>4</td>\n",
              "    </tr>\n",
              "    <tr>\n",
              "      <th>7</th>\n",
              "      <td>Восстановить нормальную работу Комсомольского ...</td>\n",
              "      <td>152</td>\n",
              "      <td>Дороги и транспорт</td>\n",
              "      <td>Бюджетные</td>\n",
              "      <td>5</td>\n",
              "    </tr>\n",
              "    <tr>\n",
              "      <th>9</th>\n",
              "      <td>Учитывая,  что у нас в городе с очисткой дорог...</td>\n",
              "      <td>137</td>\n",
              "      <td>Дороги и транспорт</td>\n",
              "      <td>Бюджетные</td>\n",
              "      <td>2</td>\n",
              "    </tr>\n",
              "    <tr>\n",
              "      <th>36</th>\n",
              "      <td>Я хочу и даже требую, чтобы наш город \"Президе...</td>\n",
              "      <td>131</td>\n",
              "      <td>Здоровье, образование, спорт и культура</td>\n",
              "      <td>Бюджетные</td>\n",
              "      <td>2</td>\n",
              "    </tr>\n",
              "    <tr>\n",
              "      <th>6</th>\n",
              "      <td>Возрождение муниципального транспорта-автобусы...</td>\n",
              "      <td>123</td>\n",
              "      <td>Дороги и транспорт</td>\n",
              "      <td>Бюджетные</td>\n",
              "      <td>5</td>\n",
              "    </tr>\n",
              "    <tr>\n",
              "      <th>5</th>\n",
              "      <td>привести в современное состояние парки города...</td>\n",
              "      <td>116</td>\n",
              "      <td>Общественные пространства, природа и экология</td>\n",
              "      <td>Пока не знаю</td>\n",
              "      <td>5</td>\n",
              "    </tr>\n",
              "    <tr>\n",
              "      <th>2</th>\n",
              "      <td>Здание автовокзала требует колоссальной реконс...</td>\n",
              "      <td>109</td>\n",
              "      <td>Дороги и транспорт</td>\n",
              "      <td>Бюджетные</td>\n",
              "      <td>4</td>\n",
              "    </tr>\n",
              "    <tr>\n",
              "      <th>20</th>\n",
              "      <td>Штрафовать за выгул собак по всему городу, вес...</td>\n",
              "      <td>108</td>\n",
              "      <td>Общественные пространства, природа и экология</td>\n",
              "      <td>Бюджетные</td>\n",
              "      <td>1</td>\n",
              "    </tr>\n",
              "    <tr>\n",
              "      <th>8</th>\n",
              "      <td>Предлагаю провести реконструкцию одной из глав...</td>\n",
              "      <td>101</td>\n",
              "      <td>Здоровье, образование, спорт и культура</td>\n",
              "      <td>Бюджетные</td>\n",
              "      <td>2</td>\n",
              "    </tr>\n",
              "  </tbody>\n",
              "</table>\n",
              "</div>\n",
              "      <button class=\"colab-df-convert\" onclick=\"convertToInteractive('df-f669bc6d-67b1-4921-bea0-b985baddcb61')\"\n",
              "              title=\"Convert this dataframe to an interactive table.\"\n",
              "              style=\"display:none;\">\n",
              "        \n",
              "  <svg xmlns=\"http://www.w3.org/2000/svg\" height=\"24px\"viewBox=\"0 0 24 24\"\n",
              "       width=\"24px\">\n",
              "    <path d=\"M0 0h24v24H0V0z\" fill=\"none\"/>\n",
              "    <path d=\"M18.56 5.44l.94 2.06.94-2.06 2.06-.94-2.06-.94-.94-2.06-.94 2.06-2.06.94zm-11 1L8.5 8.5l.94-2.06 2.06-.94-2.06-.94L8.5 2.5l-.94 2.06-2.06.94zm10 10l.94 2.06.94-2.06 2.06-.94-2.06-.94-.94-2.06-.94 2.06-2.06.94z\"/><path d=\"M17.41 7.96l-1.37-1.37c-.4-.4-.92-.59-1.43-.59-.52 0-1.04.2-1.43.59L10.3 9.45l-7.72 7.72c-.78.78-.78 2.05 0 2.83L4 21.41c.39.39.9.59 1.41.59.51 0 1.02-.2 1.41-.59l7.78-7.78 2.81-2.81c.8-.78.8-2.07 0-2.86zM5.41 20L4 18.59l7.72-7.72 1.47 1.35L5.41 20z\"/>\n",
              "  </svg>\n",
              "      </button>\n",
              "      \n",
              "  <style>\n",
              "    .colab-df-container {\n",
              "      display:flex;\n",
              "      flex-wrap:wrap;\n",
              "      gap: 12px;\n",
              "    }\n",
              "\n",
              "    .colab-df-convert {\n",
              "      background-color: #E8F0FE;\n",
              "      border: none;\n",
              "      border-radius: 50%;\n",
              "      cursor: pointer;\n",
              "      display: none;\n",
              "      fill: #1967D2;\n",
              "      height: 32px;\n",
              "      padding: 0 0 0 0;\n",
              "      width: 32px;\n",
              "    }\n",
              "\n",
              "    .colab-df-convert:hover {\n",
              "      background-color: #E2EBFA;\n",
              "      box-shadow: 0px 1px 2px rgba(60, 64, 67, 0.3), 0px 1px 3px 1px rgba(60, 64, 67, 0.15);\n",
              "      fill: #174EA6;\n",
              "    }\n",
              "\n",
              "    [theme=dark] .colab-df-convert {\n",
              "      background-color: #3B4455;\n",
              "      fill: #D2E3FC;\n",
              "    }\n",
              "\n",
              "    [theme=dark] .colab-df-convert:hover {\n",
              "      background-color: #434B5C;\n",
              "      box-shadow: 0px 1px 3px 1px rgba(0, 0, 0, 0.15);\n",
              "      filter: drop-shadow(0px 1px 2px rgba(0, 0, 0, 0.3));\n",
              "      fill: #FFFFFF;\n",
              "    }\n",
              "  </style>\n",
              "\n",
              "      <script>\n",
              "        const buttonEl =\n",
              "          document.querySelector('#df-f669bc6d-67b1-4921-bea0-b985baddcb61 button.colab-df-convert');\n",
              "        buttonEl.style.display =\n",
              "          google.colab.kernel.accessAllowed ? 'block' : 'none';\n",
              "\n",
              "        async function convertToInteractive(key) {\n",
              "          const element = document.querySelector('#df-f669bc6d-67b1-4921-bea0-b985baddcb61');\n",
              "          const dataTable =\n",
              "            await google.colab.kernel.invokeFunction('convertToInteractive',\n",
              "                                                     [key], {});\n",
              "          if (!dataTable) return;\n",
              "\n",
              "          const docLinkHtml = 'Like what you see? Visit the ' +\n",
              "            '<a target=\"_blank\" href=https://colab.research.google.com/notebooks/data_table.ipynb>data table notebook</a>'\n",
              "            + ' to learn more about interactive tables.';\n",
              "          element.innerHTML = '';\n",
              "          dataTable['output_type'] = 'display_data';\n",
              "          await google.colab.output.renderOutput(dataTable, element);\n",
              "          const docLink = document.createElement('div');\n",
              "          docLink.innerHTML = docLinkHtml;\n",
              "          element.appendChild(docLink);\n",
              "        }\n",
              "      </script>\n",
              "    </div>\n",
              "  </div>\n",
              "  "
            ]
          },
          "metadata": {}
        }
      ]
    },
    {
      "cell_type": "code",
      "source": [
        "from IPython.display import display, HTML\n",
        "\n",
        "columns = ['Description', 'SubmissionLikes', 'Category', 'Money', 'Happy']\n",
        "\n",
        "ten_most_popular[columns].iloc[0]\n",
        "for i in range(10):\n",
        "    l = ten_most_popular[columns].iloc[i].tolist()\n",
        "    comment_content = l[0]\n",
        "    comment_likes = l[1]\n",
        "    comment_category = l[2]\n",
        "    comment_money = l[3]\n",
        "    comment_happy = l[4]\n",
        "    if not all([comment_content, comment_likes, comment_category, comment_money, comment_happy]):\n",
        "        continue\n",
        "    display(HTML(f\"<h2>{i+1}. Likes: {comment_likes} Category: {comment_category} Funding: {comment_money} Happy: {comment_happy}</h2>\"))\n",
        "    display(HTML(f\"<p style='font-size:16px'>{comment_content}<br><br>\"))"
      ],
      "metadata": {
        "colab": {
          "base_uri": "https://localhost:8080/",
          "height": 1000
        },
        "id": "6cvlRwOjPRXF",
        "outputId": "cadede3f-1b89-4da5-f1fa-3b8cad30fa3b"
      },
      "execution_count": 52,
      "outputs": [
        {
          "output_type": "display_data",
          "data": {
            "text/plain": [
              "<IPython.core.display.HTML object>"
            ],
            "text/html": [
              "<h2>1. Likes: 185 Category: Здоровье, образование, спорт и культура Funding: Бюджетные Happy: 5</h2>"
            ]
          },
          "metadata": {}
        },
        {
          "output_type": "display_data",
          "data": {
            "text/plain": [
              "<IPython.core.display.HTML object>"
            ],
            "text/html": [
              "<p style='font-size:16px'>Реконструкция ДК Судостроитель<br><br>"
            ]
          },
          "metadata": {}
        },
        {
          "output_type": "display_data",
          "data": {
            "text/plain": [
              "<IPython.core.display.HTML object>"
            ],
            "text/html": [
              "<h2>2. Likes: 166 Category: Здоровье, образование, спорт и культура Funding: Частные Happy: 4</h2>"
            ]
          },
          "metadata": {}
        },
        {
          "output_type": "display_data",
          "data": {
            "text/plain": [
              "<IPython.core.display.HTML object>"
            ],
            "text/html": [
              "<p style='font-size:16px'>Предлагаем в ваш проект включить автоспортивный комплекс для технических видов спорта, а так же как ещё одна зона о дыха для жителей Комсомольска на Амуре, есть презентация с описанием возможных видов направления развития данной территории, в настоящий момент администрацией города данный участок передан нам под данное направление развития, но мы не можем найти фирму которая нам поможет для начала нарисовать внешний вид проекта для поиска инвесторов через агенство инвестиций Хабаровского края. В данном комплексе планируется гоночная трасса, картинг трасса, мотокросс трасса (уже реализована) и многие другие направления. Единственный комплекс на базе картинг трассы закрыли в приморье и передали для авторынка, в настоящий момент на дальнем востоке полностью отсутствует альтернатива для проведения  гоночных заездов, обучения экстремальному вождению, просто любительских заездов и т.д. данный комплекс мог бы стать мощной точной притяжения со всего ДВ а так же стран Азии т.к. есть отличная возможность проведения тестовых испытаний автомобилей автоконцернами благодаря своей погоде летом до +40 зимой до -45 есть отличная возможность проверять концепты и пред серийные образцы. Так же картинг трасса поможет возродить потенциал молодых спортсменов в данном направлении. Для примера из нашего города очень много талантливых спортсменов уехало на запад одним из пунктов переезда стало отсутствие инфраструктуры для повышения своего опыта вождения и оттачивания навыков. Надеюсь на сотрудничество, С уважением руководитель НКО \"СТА АВТОМИР\" Шанин Дмитрий Олегович, тел. 89144096857<br><br>"
            ]
          },
          "metadata": {}
        },
        {
          "output_type": "display_data",
          "data": {
            "text/plain": [
              "<IPython.core.display.HTML object>"
            ],
            "text/html": [
              "<h2>3. Likes: 152 Category: Дороги и транспорт Funding: Бюджетные Happy: 5</h2>"
            ]
          },
          "metadata": {}
        },
        {
          "output_type": "display_data",
          "data": {
            "text/plain": [
              "<IPython.core.display.HTML object>"
            ],
            "text/html": [
              "<p style='font-size:16px'>Восстановить нормальную работу Комсомольского аэропорта<br><br>"
            ]
          },
          "metadata": {}
        },
        {
          "output_type": "display_data",
          "data": {
            "text/plain": [
              "<IPython.core.display.HTML object>"
            ],
            "text/html": [
              "<h2>4. Likes: 137 Category: Дороги и транспорт Funding: Бюджетные Happy: 2</h2>"
            ]
          },
          "metadata": {}
        },
        {
          "output_type": "display_data",
          "data": {
            "text/plain": [
              "<IPython.core.display.HTML object>"
            ],
            "text/html": [
              "<p style='font-size:16px'>Учитывая,  что у нас в городе с очисткой дорог от снега полный хаос, нужен контрольный инструмент с функцией обратной связи от жителей города.\n",
              "Нужен специальный программный продукт (портал) с общим доступом зарегистрированных на нем граждан,  в котором будет вестись интерактивный отчёт городских служб о фактически выполненных работах по уборке снега с конкретной привязкой (на карте города) объектов очистки и количестве привлекаемой техники (и какой техники).\n",
              "Жители города смогут зайти на этот ресурс и дать свои комментарии- действительно ли есть реально работа по уборке снега, прикрепить фото, что это совсем не так или наоборот подтвердить.\n",
              "В нашей ситуации - информация это оружие,  оружие против очковтирательства со стороны городской администрации, что они занимаются уборкой и очисткой улиц, остановок, от снега.\n",
              "Можно оборудовать всю технику задействованую на уборке системой мониторинга  БСМТС (бортовые системы мониторинга транспортных средств) и будет понятно где, когда эта техника работала, так как есть во всех таких системах архив (история движения). Эти данные должны быть наложены и интергированы с картой вышеуказанного ресурса.\n",
              "Это позволит увидеть жителям города, что властям не плевать на население и они (власти) действительно заинтересованы в благоустройстве.\n",
              "Тем более данные технологии уже обкатаны - есть система контроля продвижения общественного транспорта,  в ГБЛД можно оставить фото интернета. \n",
              "Дело за малым - принять решение и далее уже  реализовать. <br><br>"
            ]
          },
          "metadata": {}
        },
        {
          "output_type": "display_data",
          "data": {
            "text/plain": [
              "<IPython.core.display.HTML object>"
            ],
            "text/html": [
              "<h2>5. Likes: 131 Category: Здоровье, образование, спорт и культура Funding: Бюджетные Happy: 2</h2>"
            ]
          },
          "metadata": {}
        },
        {
          "output_type": "display_data",
          "data": {
            "text/plain": [
              "<IPython.core.display.HTML object>"
            ],
            "text/html": [
              "<p style='font-size:16px'>Я хочу и даже требую, чтобы наш город \"Президентского внимания\" был обеспечен системой непрерывного мониторинга он же Либра. Для детей инвалидов, страдающих сахарным диабетом, в нашем городе к сожалению есть лети, начиная с 2х летнего возраста которые болеют диабетом, колоть по 10 раз пальчики в сутки это очень больно, а так же не всегда уследишь что падает или растёт сахар, что может привести к коме.. очень жаль, что соседние города обеспечивают детей и так же людей с сахарным диабетом 1 типа, за счёт федерального бюджета, а в нашем городе это невозможно. <br><br>"
            ]
          },
          "metadata": {}
        },
        {
          "output_type": "display_data",
          "data": {
            "text/plain": [
              "<IPython.core.display.HTML object>"
            ],
            "text/html": [
              "<h2>6. Likes: 123 Category: Дороги и транспорт Funding: Бюджетные Happy: 5</h2>"
            ]
          },
          "metadata": {}
        },
        {
          "output_type": "display_data",
          "data": {
            "text/plain": [
              "<IPython.core.display.HTML object>"
            ],
            "text/html": [
              "<p style='font-size:16px'>Возрождение муниципального транспорта-автобусы, трамваи<br><br>"
            ]
          },
          "metadata": {}
        },
        {
          "output_type": "display_data",
          "data": {
            "text/plain": [
              "<IPython.core.display.HTML object>"
            ],
            "text/html": [
              "<h2>7. Likes: 116 Category: Общественные пространства, природа и экология Funding: Пока не знаю Happy: 5</h2>"
            ]
          },
          "metadata": {}
        },
        {
          "output_type": "display_data",
          "data": {
            "text/plain": [
              "<IPython.core.display.HTML object>"
            ],
            "text/html": [
              "<p style='font-size:16px'> привести в современное состояние парки города, где жители смогут отдохнуть от ежедневной суеты, заняться активными видами спорта и с пользой провести время<br><br>"
            ]
          },
          "metadata": {}
        },
        {
          "output_type": "display_data",
          "data": {
            "text/plain": [
              "<IPython.core.display.HTML object>"
            ],
            "text/html": [
              "<h2>8. Likes: 109 Category: Дороги и транспорт Funding: Бюджетные Happy: 4</h2>"
            ]
          },
          "metadata": {}
        },
        {
          "output_type": "display_data",
          "data": {
            "text/plain": [
              "<IPython.core.display.HTML object>"
            ],
            "text/html": [
              "<p style='font-size:16px'>Здание автовокзала требует колоссальной реконструкции, или же замены!<br><br>"
            ]
          },
          "metadata": {}
        },
        {
          "output_type": "display_data",
          "data": {
            "text/plain": [
              "<IPython.core.display.HTML object>"
            ],
            "text/html": [
              "<h2>9. Likes: 108 Category: Общественные пространства, природа и экология Funding: Бюджетные Happy: 1</h2>"
            ]
          },
          "metadata": {}
        },
        {
          "output_type": "display_data",
          "data": {
            "text/plain": [
              "<IPython.core.display.HTML object>"
            ],
            "text/html": [
              "<p style='font-size:16px'>Штрафовать за выгул собак по всему городу, весь город завален собачим дерьмом. На стадионе школы 23 постоянно гуляют с собаками. <br><br>"
            ]
          },
          "metadata": {}
        },
        {
          "output_type": "display_data",
          "data": {
            "text/plain": [
              "<IPython.core.display.HTML object>"
            ],
            "text/html": [
              "<h2>10. Likes: 101 Category: Здоровье, образование, спорт и культура Funding: Бюджетные Happy: 2</h2>"
            ]
          },
          "metadata": {}
        },
        {
          "output_type": "display_data",
          "data": {
            "text/plain": [
              "<IPython.core.display.HTML object>"
            ],
            "text/html": [
              "<p style='font-size:16px'>Предлагаю провести реконструкцию одной из главных достопримечательностей города - дворца культуры \"Судостроитель\", который расположен на пересечении главных транспортных и пешеходных маршрутов и является центром притяжения жителей и гостей города.  К сожалению, данное здание в 2003 году практически полностью было уничтожено пожаром.<br><br>"
            ]
          },
          "metadata": {}
        }
      ]
    },
    {
      "cell_type": "markdown",
      "source": [
        "## Money"
      ],
      "metadata": {
        "id": "xhB0wKbj3-bY"
      }
    },
    {
      "cell_type": "code",
      "source": [
        "plt.figure(figsize=(12, 8))\n",
        "ax = sns.countplot(x=df['Money'])\n",
        "\n",
        "for p in ax.patches:\n",
        "    ax.annotate(str(p.get_height()), (p.get_x() + p.get_width() / 2., p.get_height()),\n",
        "                ha='center', va='center', fontsize=11, color='black', xytext=(0, 5), textcoords='offset points')\n",
        "\n",
        "plt.show()"
      ],
      "metadata": {
        "colab": {
          "base_uri": "https://localhost:8080/",
          "height": 671
        },
        "id": "UCJEjxkeZq7M",
        "outputId": "be97f01f-ea25-40a6-d4e8-3119b91e0dcb"
      },
      "execution_count": 55,
      "outputs": [
        {
          "output_type": "display_data",
          "data": {
            "text/plain": [
              "<Figure size 1200x800 with 1 Axes>"
            ],
            "image/png": "[encoded data removed]"
          },
          "metadata": {}
        }
      ]
    },
    {
      "cell_type": "code",
      "source": [
        "percentile_money_int = df.Money.value_counts(normalize=True).mul(100).round(1).astype(int)\n",
        "plt.figure(figsize=(12, 8))\n",
        "percentile_money_int.plot(kind='pie', autopct='%1.1f%%')\n",
        "plt.show()"
      ],
      "metadata": {
        "colab": {
          "base_uri": "https://localhost:8080/",
          "height": 653
        },
        "id": "ku08eAzWbAZL",
        "outputId": "2091b1ce-d5a0-47a0-f97c-e33873348a60"
      },
      "execution_count": 57,
      "outputs": [
        {
          "output_type": "display_data",
          "data": {
            "text/plain": [
              "<Figure size 1200x800 with 1 Axes>"
            ],
            "image/png": "[encoded data removed]"
          },
          "metadata": {}
        }
      ]
    },
    {
      "cell_type": "markdown",
      "source": [
        "## Participation"
      ],
      "metadata": {
        "id": "FkV4prXhFVFe"
      }
    },
    {
      "cell_type": "code",
      "source": [
        "plt.figure(figsize=(12, 8))\n",
        "\n",
        "ax = sns.countplot(x=df['Participation'])\n",
        "\n",
        "for p in ax.patches:\n",
        "    ax.annotate(str(p.get_height()), (p.get_x() + p.get_width() / 2., p.get_height()),\n",
        "                ha='center', va='center', fontsize=11, color='black', xytext=(0, 5), textcoords='offset points')\n",
        "\n",
        "plt.show()"
      ],
      "metadata": {
        "id": "FI3c5a1kbVCf"
      },
      "execution_count": null,
      "outputs": []
    },
    {
      "cell_type": "code",
      "source": [
        "df.info()"
      ],
      "metadata": {
        "id": "35kwkGisxH_t"
      },
      "execution_count": null,
      "outputs": []
    },
    {
      "cell_type": "code",
      "source": [
        "df['Gender'].value_counts()"
      ],
      "metadata": {
        "colab": {
          "base_uri": "https://localhost:8080/"
        },
        "id": "VRFvRwu47zuU",
        "outputId": "d59dda17-6faf-4a08-daa4-501095b612f2"
      },
      "execution_count": null,
      "outputs": [
        {
          "output_type": "execute_result",
          "data": {
            "text/plain": [
              "m    79\n",
              "f    61\n",
              "u     2\n",
              "-     1\n",
              "Name: Gender, dtype: int64"
            ]
          },
          "metadata": {},
          "execution_count": 45
        }
      ]
    },
    {
      "cell_type": "code",
      "source": [
        "df.at[3, 'Gender'] = 'f'\n",
        "df.at[31, 'Gender'] = 'm'\n",
        "df.at[82, 'Gender'] = 'f'\n",
        "df.at[83, 'Gender'] = 'm'\n",
        "df.at[92, 'Gender'] = 'm'"
      ],
      "metadata": {
        "id": "QrtdvOX38Je1"
      },
      "execution_count": null,
      "outputs": []
    },
    {
      "cell_type": "code",
      "source": [
        "df['Gender'].value_counts()"
      ],
      "metadata": {
        "colab": {
          "base_uri": "https://localhost:8080/"
        },
        "id": "djmelGxe8T4l",
        "outputId": "8dc5df1a-7045-402c-df0b-3404d60be0a0"
      },
      "execution_count": null,
      "outputs": [
        {
          "output_type": "execute_result",
          "data": {
            "text/plain": [
              "m    82\n",
              "f    63\n",
              "Name: Gender, dtype: int64"
            ]
          },
          "metadata": {},
          "execution_count": 47
        }
      ]
    },
    {
      "cell_type": "code",
      "source": [
        "df['Gender'] = df['Gender'].apply(lambda x: 'Female' if x == 'f' else 'Male')"
      ],
      "metadata": {
        "id": "vCIk7ctF84DH"
      },
      "execution_count": null,
      "outputs": []
    },
    {
      "cell_type": "code",
      "source": [
        "plt.figure(figsize=(10, 6))\n",
        "result = df.groupby('Gender')['Participation'].mean() * 100\n",
        "display(result)\n",
        "sns.barplot(x=result.index, y=result, palette='Blues')\n",
        "plt.show()"
      ],
      "metadata": {
        "colab": {
          "base_uri": "https://localhost:8080/",
          "height": 622
        },
        "id": "tWUOwY4s-Dwa",
        "outputId": "aba87ea4-b314-4035-9ac7-d402d9f171a8"
      },
      "execution_count": null,
      "outputs": [
        {
          "output_type": "display_data",
          "data": {
            "text/plain": [
              "Gender\n",
              "Female    52.380952\n",
              "Male      42.682927\n",
              "Name: Participation, dtype: float64"
            ]
          },
          "metadata": {}
        },
        {
          "output_type": "display_data",
          "data": {
            "text/plain": [
              "<Figure size 1000x600 with 1 Axes>"
            ],
            "image/png": "[encoded data removed]"
          },
          "metadata": {}
        }
      ]
    },
    {
      "cell_type": "code",
      "source": [
        "df.groupby('Gender')['Participation'].value_counts()"
      ],
      "metadata": {
        "colab": {
          "base_uri": "https://localhost:8080/"
        },
        "id": "-su243sv-s1-",
        "outputId": "c1dd5cc4-8a6d-4e26-acfd-79744ab9558b"
      },
      "execution_count": null,
      "outputs": [
        {
          "output_type": "execute_result",
          "data": {
            "text/plain": [
              "Gender  Participation\n",
              "Female  True             33\n",
              "        False            30\n",
              "Male    False            47\n",
              "        True             35\n",
              "Name: Participation, dtype: int64"
            ]
          },
          "metadata": {},
          "execution_count": 50
        }
      ]
    },
    {
      "cell_type": "markdown",
      "source": [
        "## Native"
      ],
      "metadata": {
        "id": "-_wjXf1JoRj-"
      }
    },
    {
      "cell_type": "code",
      "source": [
        "percentile_live_int = df.LiveTime.value_counts(normalize=True).mul(100).round(1).astype(int)\n",
        "plt.figure(figsize=(12, 8))\n",
        "percentile_live_int.plot(kind='pie', autopct='%1.1f%%')\n",
        "plt.show()"
      ],
      "metadata": {
        "colab": {
          "base_uri": "https://localhost:8080/",
          "height": 653
        },
        "id": "Gast3PIJoqx4",
        "outputId": "451051d3-be83-4d8c-8232-92f1edae5e6b"
      },
      "execution_count": null,
      "outputs": [
        {
          "output_type": "display_data",
          "data": {
            "text/plain": [
              "<Figure size 1200x800 with 1 Axes>"
            ],
            "image/png": "[encoded data removed]"
          },
          "metadata": {}
        }
      ]
    },
    {
      "cell_type": "markdown",
      "source": [
        "## Correlation between volunteer and living"
      ],
      "metadata": {
        "id": "Hr2Y6_2LZgBK"
      }
    },
    {
      "cell_type": "code",
      "source": [
        "corr = df['Participation'].corr(df['LiveTimeInt'])\n",
        "corr"
      ],
      "metadata": {
        "colab": {
          "base_uri": "https://localhost:8080/"
        },
        "id": "fgkXLJBgoQPZ",
        "outputId": "c4ac77a4-1167-432d-bbc9-945bd32814c1"
      },
      "execution_count": null,
      "outputs": [
        {
          "output_type": "execute_result",
          "data": {
            "text/plain": [
              "0.09064063376564829"
            ]
          },
          "metadata": {},
          "execution_count": 52
        }
      ]
    },
    {
      "cell_type": "markdown",
      "source": [
        "## Correlation matrix"
      ],
      "metadata": {
        "id": "CRJFfLotpAL4"
      }
    },
    {
      "cell_type": "code",
      "source": [
        "df_subset = df[['SubmissionLikes', 'Participation', 'LiveTimeInt', 'Happy', 'MeanAge']]\n",
        "corr_matrix = df_subset.corr()\n",
        "\n",
        "sns.heatmap(corr_matrix, annot=True, cmap='coolwarm', center=0)\n",
        "plt.show()"
      ],
      "metadata": {
        "colab": {
          "base_uri": "https://localhost:8080/",
          "height": 551
        },
        "id": "wP_byksOpETv",
        "outputId": "977c097c-91eb-45dc-bc84-3cbd4b21bec1"
      },
      "execution_count": null,
      "outputs": [
        {
          "output_type": "display_data",
          "data": {
            "text/plain": [
              "<Figure size 640x480 with 2 Axes>"
            ],
            "image/png": "[encoded data removed]"
          },
          "metadata": {}
        }
      ]
    },
    {
      "cell_type": "code",
      "source": [
        "%%shell\n",
        "jupyter nbconvert --to html /content/KomsomolskOnAmurCommentAnalysis.ipynb"
      ],
      "metadata": {
        "colab": {
          "base_uri": "https://localhost:8080/"
        },
        "id": "z8OUkuDTCae5",
        "outputId": "b2f182c3-e9c3-4a07-a834-5162e65e910e"
      },
      "execution_count": null,
      "outputs": [
        {
          "output_type": "stream",
          "name": "stdout",
          "text": [
            "[NbConvertApp] Converting notebook /content/KomsomolskOnAmurCommentAnalysis.ipynb to html\n",
            "[NbConvertApp] Writing 1170226 bytes to /content/KomsomolskOnAmurCommentAnalysis.html\n"
          ]
        },
        {
          "output_type": "execute_result",
          "data": {
            "text/plain": []
          },
          "metadata": {},
          "execution_count": 54
        }
      ]
    },
    {
      "cell_type": "code",
      "source": [],
      "metadata": {
        "id": "Z7CwXDqlCdYm"
      },
      "execution_count": null,
      "outputs": []
    }
  ]
}